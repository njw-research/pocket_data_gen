{
 "cells": [
  {
   "cell_type": "markdown",
   "metadata": {},
   "source": [
    "## Create data from pdb "
   ]
  },
  {
   "cell_type": "code",
   "execution_count": 1,
   "metadata": {},
   "outputs": [],
   "source": [
    "%load_ext autoreload\n",
    "%autoreload 2\n",
    "\n",
    "# # Usage examples:\n",
    "# # Process all chains\n",
    "# process_pdb_list(\n",
    "#     \"./data/enzyme/initial_data.csv\",\n",
    "#     \"./data/enzyme/initial_clean_pdbs_test/\",\n",
    "#     key_residues_dict=[]\n",
    "# )\n",
    "\n",
    "# # Process only chain A\n",
    "# process_pdb_list(\n",
    "#     \"./data/enzyme/initial_data.csv\",\n",
    "#     \"./data/enzyme/initial_clean_pdbs_chain_A_test/\",\n",
    "#     key_residues_dict=[],\n",
    "#     chain='A'\n",
    "# )\n"
   ]
  },
  {
   "cell_type": "markdown",
   "metadata": {},
   "source": [
    "### Ligand and enzyme preparation "
   ]
  },
  {
   "cell_type": "code",
   "execution_count": 82,
   "metadata": {},
   "outputs": [],
   "source": [
    "from src.applications.autodock.run_docking import setup_docking\n",
    "\n",
    "\n",
    "enzyme_path, ligand_path, act_site = setup_docking('examples/aligned_pocket_test/triacylglycerol/1AQL_chain_A')"
   ]
  },
  {
   "cell_type": "code",
   "execution_count": null,
   "metadata": {},
   "outputs": [],
   "source": [
    "# Run for all data\n",
    "from src.applications.autodock.utils import prepare_vina_files\n",
    "\n",
    "prep_info = prepare_vina_files(\n",
    "        pdb_dir=\"./data/enzyme/initial_clean_pdbs_chain_A\",\n",
    "        sdf_dir=\"./data/ligand/sdf\",\n",
    "        base_output_dir=\"./examples/centred_vina_output\",\n",
    "        centre=False\n",
    "    )\n",
    "\n",
    "# from src.applications.autodock.utils import prepare_enzyme\n",
    "# from src.applications.autodock.allign_ligand import prepare_ligand\n",
    "\n",
    "# ligand_path = './data/vina_examples/triacylglycerol'\n",
    "# enzyme_path = './data/vina_examples/1CLE_altloc_removed.pdb'\n",
    "# residue_ids = ['S146', 'D201', 'H258']\n",
    "\n",
    "# enzyme_pdbqt, mean_act_site = prepare_enzyme(\n",
    "#     enzyme_path=enzyme_path\n",
    "# )\n",
    "\n",
    "# ligand_pdbqt = prepare_ligand(\n",
    "#     ligand_path='data/vina_examples/triacylglycerol.sdf',\n",
    "#     active_site_com= mean_act_site\n",
    "# )"
   ]
  },
  {
   "cell_type": "markdown",
   "metadata": {},
   "source": [
    "## Relax complex with xyme_tools "
   ]
  },
  {
   "cell_type": "code",
   "execution_count": 4,
   "metadata": {},
   "outputs": [
    {
     "name": "stdout",
     "output_type": "stream",
     "text": [
      "Saved: /Users/nwilliams/Projects/pocket_data_gen/examples/relax_complex/ligand_out_conf_1.sdf\n",
      "Saved: /Users/nwilliams/Projects/pocket_data_gen/examples/relax_complex/ligand_out_conf_2.sdf\n",
      "Saved: /Users/nwilliams/Projects/pocket_data_gen/examples/relax_complex/ligand_out_conf_3.sdf\n",
      "Saved: /Users/nwilliams/Projects/pocket_data_gen/examples/relax_complex/ligand_out_conf_4.sdf\n",
      "Saved: /Users/nwilliams/Projects/pocket_data_gen/examples/relax_complex/ligand_out_conf_5.sdf\n",
      "Saved: /Users/nwilliams/Projects/pocket_data_gen/examples/relax_complex/ligand_out_conf_6.sdf\n",
      "Saved: /Users/nwilliams/Projects/pocket_data_gen/examples/relax_complex/ligand_out_conf_7.sdf\n",
      "Saved: /Users/nwilliams/Projects/pocket_data_gen/examples/relax_complex/ligand_out_conf_8.sdf\n",
      "Saved: /Users/nwilliams/Projects/pocket_data_gen/examples/relax_complex/ligand_out_conf_9.sdf\n"
     ]
    }
   ],
   "source": [
    "from xyme_tools.relax.refine import relax_complex\n",
    "from src.utils.load_ligand import multi_pdb_to_single_sdf\n",
    "\n",
    "reseptor_pdb = 'examples/relax_complex/receptorFile.pdb'\n",
    "ligand_pdb = 'examples/relax_complex/ligand_out.pdb'\n",
    "\n",
    "multi_pdb_to_single_sdf(ligand_pdb)\n",
    "\n"
   ]
  },
  {
   "cell_type": "code",
   "execution_count": 5,
   "metadata": {},
   "outputs": [
    {
     "name": "stdout",
     "output_type": "stream",
     "text": [
      "Loading ligand params\n",
      "Setting up forcefields\n"
     ]
    },
    {
     "name": "stderr",
     "output_type": "stream",
     "text": [
      "Did not recognize residue GLU; did you forget to call .add_molecules() to add it?\n"
     ]
    },
    {
     "name": "stdout",
     "output_type": "stream",
     "text": [
      "creating system\n"
     ]
    },
    {
     "ename": "ValueError",
     "evalue": "No template found for residue 1 (GLU).  The set of atoms matches GLU, but the bonds are different.  Perhaps the chain is missing a terminal group?  For more information, see https://github.com/openmm/openmm/wiki/Frequently-Asked-Questions#template",
     "output_type": "error",
     "traceback": [
      "\u001b[0;31m---------------------------------------------------------------------------\u001b[0m",
      "\u001b[0;31mValueError\u001b[0m                                Traceback (most recent call last)",
      "Cell \u001b[0;32mIn[5], line 1\u001b[0m\n\u001b[0;32m----> 1\u001b[0m \u001b[43mrelax_complex\u001b[49m\u001b[43m(\u001b[49m\n\u001b[1;32m      2\u001b[0m \u001b[43m    \u001b[49m\u001b[43mpdb_file\u001b[49m\u001b[38;5;241;43m=\u001b[39;49m\u001b[43mreseptor_pdb\u001b[49m\u001b[43m,\u001b[49m\n\u001b[1;32m      3\u001b[0m \u001b[43m    \u001b[49m\u001b[43mligand_file\u001b[49m\u001b[38;5;241;43m=\u001b[39;49m\u001b[38;5;124;43m'\u001b[39;49m\u001b[38;5;124;43mexamples/relax_complex/ligand_out_conf_1.sdf\u001b[39;49m\u001b[38;5;124;43m'\u001b[39;49m\u001b[43m,\u001b[49m\n\u001b[1;32m      4\u001b[0m \u001b[43m    \u001b[49m\u001b[43mfix_ligand_bool\u001b[49m\u001b[38;5;241;43m=\u001b[39;49m\u001b[38;5;28;43;01mFalse\u001b[39;49;00m\u001b[43m,\u001b[49m\n\u001b[1;32m      5\u001b[0m \u001b[43m    \u001b[49m\u001b[43mmax_steps\u001b[49m\u001b[38;5;241;43m=\u001b[39;49m\u001b[38;5;241;43m100\u001b[39;49m\n\u001b[1;32m      6\u001b[0m \u001b[43m)\u001b[49m\n",
      "File \u001b[0;32m~/miniconda3/envs/enzyme_design/lib/python3.11/site-packages/xyme_tools/relax/refine.py:205\u001b[0m, in \u001b[0;36mrelax_complex\u001b[0;34m(pdb_file, ligand_file, fix_ligand_bool, forcefield_files, max_steps, energy_tolerance, output_pdb, n_cores)\u001b[0m\n\u001b[1;32m    203\u001b[0m     \u001b[38;5;66;03m# creating system\u001b[39;00m\n\u001b[1;32m    204\u001b[0m     \u001b[38;5;28mprint\u001b[39m(\u001b[38;5;124m\"\u001b[39m\u001b[38;5;124mcreating system\u001b[39m\u001b[38;5;124m\"\u001b[39m)\n\u001b[0;32m--> 205\u001b[0m     system \u001b[38;5;241m=\u001b[39m \u001b[43msystem_generator\u001b[49m\u001b[38;5;241;43m.\u001b[39;49m\u001b[43mcreate_system\u001b[49m\u001b[43m(\u001b[49m\n\u001b[1;32m    206\u001b[0m \u001b[43m        \u001b[49m\u001b[43mtopology\u001b[49m\u001b[38;5;241;43m=\u001b[39;49m\u001b[43mmodeller\u001b[49m\u001b[38;5;241;43m.\u001b[39;49m\u001b[43mtopology\u001b[49m\u001b[43m,\u001b[49m\u001b[43m \u001b[49m\u001b[43mmolecules\u001b[49m\u001b[38;5;241;43m=\u001b[39;49m\u001b[43m[\u001b[49m\u001b[43mligand_params\u001b[49m\u001b[43m]\u001b[49m\n\u001b[1;32m    207\u001b[0m \u001b[43m    \u001b[49m\u001b[43m)\u001b[49m\n\u001b[1;32m    208\u001b[0m \u001b[38;5;28;01melse\u001b[39;00m:\n\u001b[1;32m    209\u001b[0m     system \u001b[38;5;241m=\u001b[39m system_generator\u001b[38;5;241m.\u001b[39mcreate_system(\n\u001b[1;32m    210\u001b[0m         topology\u001b[38;5;241m=\u001b[39mmodeller\u001b[38;5;241m.\u001b[39mtopology,\n\u001b[1;32m    211\u001b[0m     )\n",
      "File \u001b[0;32m~/miniconda3/envs/enzyme_design/lib/python3.11/site-packages/openmmforcefields/generators/system_generators.py:400\u001b[0m, in \u001b[0;36mSystemGenerator.create_system\u001b[0;34m(self, topology, molecules)\u001b[0m\n\u001b[1;32m    397\u001b[0m     forcefield_kwargs\u001b[38;5;241m.\u001b[39mupdate(\u001b[38;5;28mself\u001b[39m\u001b[38;5;241m.\u001b[39mperiodic_forcefield_kwargs)\n\u001b[1;32m    399\u001b[0m \u001b[38;5;66;03m# Build the System\u001b[39;00m\n\u001b[0;32m--> 400\u001b[0m system \u001b[38;5;241m=\u001b[39m \u001b[38;5;28;43mself\u001b[39;49m\u001b[38;5;241;43m.\u001b[39;49m\u001b[43mforcefield\u001b[49m\u001b[38;5;241;43m.\u001b[39;49m\u001b[43mcreateSystem\u001b[49m\u001b[43m(\u001b[49m\u001b[43mtopology\u001b[49m\u001b[43m,\u001b[49m\u001b[43m \u001b[49m\u001b[38;5;241;43m*\u001b[39;49m\u001b[38;5;241;43m*\u001b[39;49m\u001b[43mforcefield_kwargs\u001b[49m\u001b[43m)\u001b[49m\n\u001b[1;32m    402\u001b[0m \u001b[38;5;66;03m# Modify other forces as requested\u001b[39;00m\n\u001b[1;32m    403\u001b[0m \u001b[38;5;28mself\u001b[39m\u001b[38;5;241m.\u001b[39m_modify_forces(system)\n",
      "File \u001b[0;32m~/miniconda3/envs/enzyme_design/lib/python3.11/site-packages/openmm/app/forcefield.py:1257\u001b[0m, in \u001b[0;36mForceField.createSystem\u001b[0;34m(self, topology, nonbondedMethod, nonbondedCutoff, constraints, rigidWater, removeCMMotion, hydrogenMass, residueTemplates, ignoreExternalBonds, switchDistance, flexibleConstraints, drudeMass, **args)\u001b[0m\n\u001b[1;32m   1253\u001b[0m rigidResidue \u001b[38;5;241m=\u001b[39m [\u001b[38;5;28;01mFalse\u001b[39;00m]\u001b[38;5;241m*\u001b[39mtopology\u001b[38;5;241m.\u001b[39mgetNumResidues()\n\u001b[1;32m   1255\u001b[0m \u001b[38;5;66;03m# Find the template matching each residue and assign atom types.\u001b[39;00m\n\u001b[0;32m-> 1257\u001b[0m templateForResidue \u001b[38;5;241m=\u001b[39m \u001b[38;5;28;43mself\u001b[39;49m\u001b[38;5;241;43m.\u001b[39;49m\u001b[43m_matchAllResiduesToTemplates\u001b[49m\u001b[43m(\u001b[49m\u001b[43mdata\u001b[49m\u001b[43m,\u001b[49m\u001b[43m \u001b[49m\u001b[43mtopology\u001b[49m\u001b[43m,\u001b[49m\u001b[43m \u001b[49m\u001b[43mresidueTemplates\u001b[49m\u001b[43m,\u001b[49m\u001b[43m \u001b[49m\u001b[43mignoreExternalBonds\u001b[49m\u001b[43m)\u001b[49m\n\u001b[1;32m   1258\u001b[0m \u001b[38;5;28;01mfor\u001b[39;00m res \u001b[38;5;129;01min\u001b[39;00m topology\u001b[38;5;241m.\u001b[39mresidues():\n\u001b[1;32m   1259\u001b[0m     \u001b[38;5;28;01mif\u001b[39;00m res\u001b[38;5;241m.\u001b[39mname \u001b[38;5;241m==\u001b[39m \u001b[38;5;124m'\u001b[39m\u001b[38;5;124mHOH\u001b[39m\u001b[38;5;124m'\u001b[39m:\n\u001b[1;32m   1260\u001b[0m         \u001b[38;5;66;03m# Determine whether this should be a rigid water.\u001b[39;00m\n",
      "File \u001b[0;32m~/miniconda3/envs/enzyme_design/lib/python3.11/site-packages/openmm/app/forcefield.py:1472\u001b[0m, in \u001b[0;36mForceField._matchAllResiduesToTemplates\u001b[0;34m(self, data, topology, residueTemplates, ignoreExternalBonds, ignoreExtraParticles, recordParameters)\u001b[0m\n\u001b[1;32m   1470\u001b[0m                 \u001b[38;5;28;01mbreak\u001b[39;00m\n\u001b[1;32m   1471\u001b[0m \u001b[38;5;28;01mif\u001b[39;00m matches \u001b[38;5;129;01mis\u001b[39;00m \u001b[38;5;28;01mNone\u001b[39;00m:\n\u001b[0;32m-> 1472\u001b[0m     \u001b[38;5;28;01mraise\u001b[39;00m \u001b[38;5;167;01mValueError\u001b[39;00m(\u001b[38;5;124m'\u001b[39m\u001b[38;5;124mNo template found for residue \u001b[39m\u001b[38;5;132;01m%d\u001b[39;00m\u001b[38;5;124m (\u001b[39m\u001b[38;5;132;01m%s\u001b[39;00m\u001b[38;5;124m).  \u001b[39m\u001b[38;5;132;01m%s\u001b[39;00m\u001b[38;5;124m  For more information, see https://github.com/openmm/openmm/wiki/Frequently-Asked-Questions#template\u001b[39m\u001b[38;5;124m'\u001b[39m \u001b[38;5;241m%\u001b[39m (res\u001b[38;5;241m.\u001b[39mindex\u001b[38;5;241m+\u001b[39m\u001b[38;5;241m1\u001b[39m, res\u001b[38;5;241m.\u001b[39mname, _findMatchErrors(\u001b[38;5;28mself\u001b[39m, res)))\n\u001b[1;32m   1473\u001b[0m \u001b[38;5;28;01melse\u001b[39;00m:\n\u001b[1;32m   1474\u001b[0m     \u001b[38;5;28;01mif\u001b[39;00m recordParameters:\n",
      "\u001b[0;31mValueError\u001b[0m: No template found for residue 1 (GLU).  The set of atoms matches GLU, but the bonds are different.  Perhaps the chain is missing a terminal group?  For more information, see https://github.com/openmm/openmm/wiki/Frequently-Asked-Questions#template"
     ]
    }
   ],
   "source": [
    "relax_complex(\n",
    "    pdb_file=reseptor_pdb,\n",
    "    ligand_file='examples/relax_complex/ligand_out_conf_1.sdf',\n",
    "    fix_ligand_bool=False,\n",
    "    max_steps=100\n",
    ")"
   ]
  },
  {
   "cell_type": "markdown",
   "metadata": {},
   "source": [
    "# Autodock Vina "
   ]
  },
  {
   "cell_type": "markdown",
   "metadata": {},
   "source": [
    "### 2. Run vina"
   ]
  },
  {
   "cell_type": "code",
   "execution_count": 3,
   "metadata": {},
   "outputs": [
    {
     "name": "stderr",
     "output_type": "stream",
     "text": [
      "2025-02-03 09:13:02,460 - INFO - Loading enzyme from: examples/vina_examples/1CLE_altloc_removed_com.pdbqt\n",
      "2025-02-03 09:13:02,460 - INFO - Loading enzyme from: examples/vina_examples/1CLE_altloc_removed_com.pdbqt\n",
      "2025-02-03 09:13:02,476 - INFO - Loading ligand from: examples/vina_examples/triacylglycerol_aligned.pdbqt\n",
      "2025-02-03 09:13:02,476 - INFO - Loading ligand from: examples/vina_examples/triacylglycerol_aligned.pdbqt\n",
      "2025-02-03 09:13:02,998 - INFO - Computing Vina maps (center=[-7.356333255767822, 5.261666774749756, -2.2339999675750732], box_size=[40, 40, 40])\n",
      "2025-02-03 09:13:02,998 - INFO - Computing Vina maps (center=[-7.356333255767822, 5.261666774749756, -2.2339999675750732], box_size=[40, 40, 40])\n",
      "WARNING: Search space volume is greater than 27000 Angstrom^3 (See FAQ)\n",
      "2025-02-03 09:13:03,867 - INFO - Score before minimization: 157.651 (kcal/mol)\n",
      "2025-02-03 09:13:03,867 - INFO - Score before minimization: 157.651 (kcal/mol)\n",
      "2025-02-03 09:13:03,872 - INFO - Score after minimization: 59.905 (kcal/mol)\n",
      "2025-02-03 09:13:03,872 - INFO - Score after minimization: 59.905 (kcal/mol)\n",
      "2025-02-03 09:13:03,873 - INFO - Saved minimized pose to: examples/vina_examples/docking_results/minimized_pose.pdbqt\n",
      "2025-02-03 09:13:03,873 - INFO - Saved minimized pose to: examples/vina_examples/docking_results/minimized_pose.pdbqt\n",
      "2025-02-03 09:13:03,873 - INFO - Starting docking (exhaustiveness=16, n_poses=1)\n",
      "2025-02-03 09:13:03,873 - INFO - Starting docking (exhaustiveness=16, n_poses=1)\n"
     ]
    },
    {
     "name": "stdout",
     "output_type": "stream",
     "text": [
      "Computing Vina grid ... done.\n",
      "Performing local search ... done.\n",
      "Performing docking (random seed: -844560511) ... \n",
      "0%   10   20   30   40   50   60   70   80   90   100%\n",
      "|----|----|----|----|----|----|----|----|----|----|\n",
      "***************************************************\n",
      "\n",
      "mode |   affinity | dist from best mode\n",
      "     | (kcal/mol) | rmsd l.b.| rmsd u.b.\n",
      "-----+------------+----------+----------\n",
      "   1       -6.087          0          0\n"
     ]
    },
    {
     "name": "stderr",
     "output_type": "stream",
     "text": [
      "2025-02-03 09:17:02,201 - INFO - Saved 1 docked poses to: examples/vina_examples/docking_results/docked_poses.pdbqt\n",
      "2025-02-03 09:17:02,201 - INFO - Saved 1 docked poses to: examples/vina_examples/docking_results/docked_poses.pdbqt\n",
      "2025-02-03 09:17:02,202 - INFO - Saved scores and energies to: examples/vina_examples/docking_results/docking_scores.json\n",
      "2025-02-03 09:17:02,202 - INFO - Saved scores and energies to: examples/vina_examples/docking_results/docking_scores.json\n",
      "2025-02-03 09:17:02,203 - INFO - Docking completed successfully\n",
      "2025-02-03 09:17:02,203 - INFO - Docking completed successfully\n"
     ]
    }
   ],
   "source": [
    "from src.applications.autodock.run_docking import run_vina_docking\n",
    "\n",
    "results = run_vina_docking(\n",
    "    input_dir='./examples/vina_examples/',\n",
    "    box_size=[40, 40, 40],\n",
    "    exhaustiveness=16,\n",
    "    n_poses=1,\n",
    "    n_poses_to_save=1\n",
    ")"
   ]
  },
  {
   "cell_type": "code",
   "execution_count": null,
   "metadata": {},
   "outputs": [],
   "source": []
  }
 ],
 "metadata": {
  "kernelspec": {
   "display_name": "enzyme_design",
   "language": "python",
   "name": "python3"
  },
  "language_info": {
   "codemirror_mode": {
    "name": "ipython",
    "version": 3
   },
   "file_extension": ".py",
   "mimetype": "text/x-python",
   "name": "python",
   "nbconvert_exporter": "python",
   "pygments_lexer": "ipython3",
   "version": "3.11.11"
  }
 },
 "nbformat": 4,
 "nbformat_minor": 2
}
