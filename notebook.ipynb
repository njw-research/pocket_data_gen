{
 "cells": [
  {
   "cell_type": "markdown",
   "metadata": {},
   "source": [
    "## Create data from pdb "
   ]
  },
  {
   "cell_type": "code",
   "execution_count": 1,
   "metadata": {},
   "outputs": [],
   "source": [
    "%load_ext autoreload\n",
    "%autoreload 2\n",
    "\n",
    "# # Usage examples:\n",
    "# # Process all chains\n",
    "# process_pdb_list(\n",
    "#     \"./data/enzyme/initial_data.csv\",\n",
    "#     \"./data/enzyme/initial_clean_pdbs_test/\",\n",
    "#     key_residues_dict=[]\n",
    "# )\n",
    "\n",
    "# # Process only chain A\n",
    "# process_pdb_list(}\n",
    "#     \"./data/enzyme/initial_data.csv\",\n",
    "#     \"./data/enzyme/initial_clean_pdbs_chain_A_test/\",\n",
    "#     key_residues_dict=[],\n",
    "#     chain='A'\n",
    "# )\n"
   ]
  },
  {
   "cell_type": "markdown",
   "metadata": {},
   "source": [
    "### Ligand and enzyme preparation "
   ]
  },
  {
   "cell_type": "code",
   "execution_count": null,
   "metadata": {},
   "outputs": [],
   "source": [
    "from src.applications.autodock.run_docking import setup_docking\n",
    "\n",
    "\n",
    "enzyme_path, ligand_path, act_site = setup_docking('examples/aligned_pocket_test/triacylglycerol/1AQL_chain_A')"
   ]
  },
  {
   "cell_type": "code",
   "execution_count": null,
   "metadata": {},
   "outputs": [],
   "source": [
    "# Run for all data\n",
    "from src.applications.autodock.utils import prepare_vina_files\n",
    "\n",
    "prep_info = prepare_vina_files(\n",
    "        pdb_dir=\"./data/enzyme/initial_clean_pdbs_chain_A\",\n",
    "        sdf_dir=\"./data/ligand/sdf\",\n",
    "        base_output_dir=\"./examples/centred_vina_output\",\n",
    "        centre=False\n",
    "    )\n",
    "\n",
    "# from src.applications.autodock.utils import prepare_enzyme\n",
    "# from src.applications.autodock.allign_ligand import prepare_ligand\n",
    "\n",
    "# ligand_path = './data/vina_examples/triacylglycerol'\n",
    "# enzyme_path = './data/vina_examples/1CLE_altloc_removed.pdb'\n",
    "# residue_ids = ['S146', 'D201', 'H258']\n",
    "\n",
    "# enzyme_pdbqt, mean_act_site = prepare_enzyme(\n",
    "#     enzyme_path=enzyme_path\n",
    "# )\n",
    "\n",
    "# ligand_pdbqt = prepare_ligand(\n",
    "#     ligand_path='data/vina_examples/triacylglycerol.sdf',\n",
    "#     active_site_com= mean_act_site\n",
    "# )"
   ]
  },
  {
   "cell_type": "markdown",
   "metadata": {},
   "source": [
    "## Relax complex with xyme_tools "
   ]
  },
  {
   "cell_type": "code",
   "execution_count": null,
   "metadata": {},
   "outputs": [],
   "source": [
    "from src.utils.load_ligand import multi_pdb_to_single_sdf\n",
    "from src.utils.fix_pdb import add_hydrogens\n",
    "\n",
    "reseptor_pdb = 'examples/relax_complex/receptorFile.pdb'\n",
    "fixed_reseptor_pdb = add_hydrogens(reseptor_pdb, \"output_with_h.pdb\", ph=7.0)\n",
    "\n",
    "ligand_pdb = 'examples/relax_complex/ligand_out.pdb'\n",
    "ligand_sdf_list = multi_pdb_to_single_sdf(ligand_pdb)"
   ]
  },
  {
   "cell_type": "code",
   "execution_count": null,
   "metadata": {},
   "outputs": [],
   "source": [
    "# relax_complex(\n",
    "#     pdb_file=reseptor_pdb,\n",
    "#     ligand_file='examples/relax_complex/ligand_out_conf_1.sdf',\n",
    "#     fix_ligand_bool=False,\n",
    "#     max_steps=100\n",
    "# )\n",
    "\n",
    "# relax_complex_pdb(\n",
    "#     'relaxed.pdb',\n",
    "#     het_id='UNK',\n",
    "#     output_pdb='relaxed_complex.pdb',\n",
    "#     max_iterations=200\n",
    "# )"
   ]
  },
  {
   "cell_type": "code",
   "execution_count": null,
   "metadata": {},
   "outputs": [],
   "source": [
    "from src.applications._xyme_tools.local_sampling.langevin import local_sampling\n",
    "\n",
    "pdb_file = 'tests/data/openmm/enzyme.pdb'\n",
    "ligand_file = 'tests/data/openmm/ligand.sdf'\n",
    "\n",
    "final_state = local_sampling(\n",
    "    pdb_file=pdb_file,\n",
    "    ligand_file=ligand_file,\n",
    "    fix_ligand_bool=True,\n",
    "    dyn_steps = 100,\n",
    "    dyn_pdb = \"dyn.pdb\",\n",
    "    temperature=300.0,\n",
    "    run_opt = True,\n",
    "    opt_steps = 100,\n",
    "    energy_tolerance=10.0,\n",
    "    opt_pdb = \"opt.pdb\",\n",
    ")"
   ]
  },
  {
   "cell_type": "code",
   "execution_count": null,
   "metadata": {},
   "outputs": [],
   "source": [
    "\n"
   ]
  },
  {
   "cell_type": "markdown",
   "metadata": {},
   "source": [
    "# Autodock Vina "
   ]
  },
  {
   "cell_type": "markdown",
   "metadata": {},
   "source": [
    "### 2. Run vina"
   ]
  },
  {
   "cell_type": "code",
   "execution_count": null,
   "metadata": {},
   "outputs": [],
   "source": [
    "from src.applications.autodock.run_docking import run_vina_docking\n",
    "\n",
    "results = run_vina_docking(\n",
    "    input_dir='./examples/vina_examples/',\n",
    "    box_size=[40, 40, 40],\n",
    "    exhaustiveness=16,\n",
    "    n_poses=1,\n",
    "    n_poses_to_save=1\n",
    ")"
   ]
  },
  {
   "cell_type": "code",
   "execution_count": null,
   "metadata": {},
   "outputs": [],
   "source": []
  }
 ],
 "metadata": {
  "kernelspec": {
   "display_name": "enzyme_design",
   "language": "python",
   "name": "python3"
  },
  "language_info": {
   "codemirror_mode": {
    "name": "ipython",
    "version": 3
   },
   "file_extension": ".py",
   "mimetype": "text/x-python",
   "name": "python",
   "nbconvert_exporter": "python",
   "pygments_lexer": "ipython3",
   "version": "3.11.11"
  }
 },
 "nbformat": 4,
 "nbformat_minor": 2
}
