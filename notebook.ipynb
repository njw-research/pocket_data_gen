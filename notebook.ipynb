{
 "cells": [
  {
   "cell_type": "markdown",
   "metadata": {},
   "source": [
    "## Create data from pdb "
   ]
  },
  {
   "cell_type": "code",
   "execution_count": 1,
   "metadata": {},
   "outputs": [],
   "source": [
    "from src.utils.process_pdb_list import process_pdb_list\n",
    "\n",
    "%load_ext autoreload\n",
    "%autoreload 2\n",
    "\n",
    "# # Usage examples:\n",
    "# # Process all chains\n",
    "# process_pdb_list(\n",
    "#     \"./data/enzyme/initial_data.csv\",\n",
    "#     \"./data/enzyme/initial_clean_pdbs_test/\",\n",
    "#     key_residues_dict=[]\n",
    "# )\n",
    "\n",
    "# # Process only chain A\n",
    "# process_pdb_list(\n",
    "#     \"./data/enzyme/initial_data.csv\",\n",
    "#     \"./data/enzyme/initial_clean_pdbs_chain_A_test/\",\n",
    "#     key_residues_dict=[],\n",
    "#     chain='A'\n",
    "# )\n"
   ]
  },
  {
   "cell_type": "markdown",
   "metadata": {},
   "source": [
    "### Ligand and enzyme preparation "
   ]
  },
  {
   "cell_type": "code",
   "execution_count": null,
   "metadata": {},
   "outputs": [],
   "source": [
    "# Run for all data\n",
    "from src.applications.autodock.utils import  prepare_vina_files\n",
    "\n",
    "prep_info = prepare_vina_files(\n",
    "        pdb_dir=\"./data/enzyme/initial_clean_pdbs_chain_A_test\",\n",
    "        sdf_dir=\"./data/ligand/sdf\",\n",
    "        base_output_dir=\"./examples/vina_output_test\"\n",
    "    )\n",
    "\n",
    "# from src.applications.autodock.utils import prepare_enzyme\n",
    "# from src.applications.autodock.allign_ligand import prepare_ligand\n",
    "\n",
    "# ligand_path = './data/vina_examples/triacylglycerol'\n",
    "# enzyme_path = './data/vina_examples/1CLE_altloc_removed.pdb'\n",
    "# residue_ids = ['S146', 'D201', 'H258']\n",
    "\n",
    "# enzyme_pdbqt, mean_act_site = prepare_enzyme(\n",
    "#     enzyme_path=enzyme_path\n",
    "# )\n",
    "\n",
    "# ligand_pdbqt = prepare_ligand(\n",
    "#     ligand_path='data/vina_examples/triacylglycerol.sdf',\n",
    "#     active_site_com= mean_act_site\n",
    "# )"
   ]
  },
  {
   "cell_type": "markdown",
   "metadata": {},
   "source": [
    "## Submit to pocket dock "
   ]
  },
  {
   "cell_type": "code",
   "execution_count": 2,
   "metadata": {},
   "outputs": [
    {
     "name": "stdout",
     "output_type": "stream",
     "text": [
      "Found 6 PDB files and 6 SDF files\n",
      "Creating output directory: ./examples/output_pipeline/pocketgen_20250202_173056\n",
      "\n",
      "Processing:\n",
      "PDB: ./examples/aligned_pocket_test/ester/1AKN_chain_A/1AKN_altloc_removed_com.pdb\n",
      "SDF: ./examples/aligned_pocket_test/ester/1AKN_chain_A/ester_aligned.sdf\n",
      "Output: ./examples/output_pipeline/pocketgen_20250202_173056/ester/1AKN_chain_A/ester_aligned_1AKN_altloc_removed_com\n",
      "Running job pocketgen-73986\n",
      "Error processing ./examples/aligned_pocket_test/ester/1AKN_chain_A/1AKN_altloc_removed_com.pdb with ./examples/aligned_pocket_test/ester/1AKN_chain_A/ester_aligned.sdf: 'TAMARIND_API_KEY'\n",
      "\n",
      "Processing:\n",
      "PDB: ./examples/aligned_pocket_test/ester/1AQL_chain_A/1AQL_altloc_removed_com.pdb\n",
      "SDF: ./examples/aligned_pocket_test/ester/1AQL_chain_A/ester_aligned.sdf\n",
      "Output: ./examples/output_pipeline/pocketgen_20250202_173056/ester/1AQL_chain_A/ester_aligned_1AQL_altloc_removed_com\n",
      "Running job pocketgen-80439\n",
      "Error processing ./examples/aligned_pocket_test/ester/1AQL_chain_A/1AQL_altloc_removed_com.pdb with ./examples/aligned_pocket_test/ester/1AQL_chain_A/ester_aligned.sdf: 'TAMARIND_API_KEY'\n",
      "\n",
      "Processing:\n",
      "PDB: ./examples/aligned_pocket_test/diacylglycerol/1AKN_chain_A/1AKN_altloc_removed_com.pdb\n",
      "SDF: ./examples/aligned_pocket_test/diacylglycerol/1AKN_chain_A/diacylglycerol_aligned.sdf\n",
      "Output: ./examples/output_pipeline/pocketgen_20250202_173056/diacylglycerol/1AKN_chain_A/diacylglycerol_aligned_1AKN_altloc_removed_com\n",
      "Running job pocketgen-69153\n",
      "Error processing ./examples/aligned_pocket_test/diacylglycerol/1AKN_chain_A/1AKN_altloc_removed_com.pdb with ./examples/aligned_pocket_test/diacylglycerol/1AKN_chain_A/diacylglycerol_aligned.sdf: 'TAMARIND_API_KEY'\n",
      "\n",
      "Processing:\n",
      "PDB: ./examples/aligned_pocket_test/diacylglycerol/1AQL_chain_A/1AQL_altloc_removed_com.pdb\n",
      "SDF: ./examples/aligned_pocket_test/diacylglycerol/1AQL_chain_A/diacylglycerol_aligned.sdf\n",
      "Output: ./examples/output_pipeline/pocketgen_20250202_173056/diacylglycerol/1AQL_chain_A/diacylglycerol_aligned_1AQL_altloc_removed_com\n",
      "Running job pocketgen-45339\n",
      "Error processing ./examples/aligned_pocket_test/diacylglycerol/1AQL_chain_A/1AQL_altloc_removed_com.pdb with ./examples/aligned_pocket_test/diacylglycerol/1AQL_chain_A/diacylglycerol_aligned.sdf: 'TAMARIND_API_KEY'\n",
      "\n",
      "Processing:\n",
      "PDB: ./examples/aligned_pocket_test/triacylglycerol/1AKN_chain_A/1AKN_altloc_removed_com.pdb\n",
      "SDF: ./examples/aligned_pocket_test/triacylglycerol/1AKN_chain_A/triacylglycerol_aligned.sdf\n",
      "Output: ./examples/output_pipeline/pocketgen_20250202_173056/triacylglycerol/1AKN_chain_A/triacylglycerol_aligned_1AKN_altloc_removed_com\n",
      "Running job pocketgen-76730\n",
      "Error processing ./examples/aligned_pocket_test/triacylglycerol/1AKN_chain_A/1AKN_altloc_removed_com.pdb with ./examples/aligned_pocket_test/triacylglycerol/1AKN_chain_A/triacylglycerol_aligned.sdf: 'TAMARIND_API_KEY'\n",
      "\n",
      "Processing:\n",
      "PDB: ./examples/aligned_pocket_test/triacylglycerol/1AQL_chain_A/1AQL_altloc_removed_com.pdb\n",
      "SDF: ./examples/aligned_pocket_test/triacylglycerol/1AQL_chain_A/triacylglycerol_aligned.sdf\n",
      "Output: ./examples/output_pipeline/pocketgen_20250202_173056/triacylglycerol/1AQL_chain_A/triacylglycerol_aligned_1AQL_altloc_removed_com\n",
      "Running job pocketgen-25415\n",
      "Error processing ./examples/aligned_pocket_test/triacylglycerol/1AQL_chain_A/1AQL_altloc_removed_com.pdb with ./examples/aligned_pocket_test/triacylglycerol/1AQL_chain_A/triacylglycerol_aligned.sdf: 'TAMARIND_API_KEY'\n"
     ]
    },
    {
     "data": {
      "text/plain": [
       "[]"
      ]
     },
     "execution_count": 2,
     "metadata": {},
     "output_type": "execute_result"
    }
   ],
   "source": [
    "from src.applications.pocketgen.run_pocketgen import submit_pocketgen_jobs\n",
    "\n",
    "!export TAMARIND_API_KEY=\"e58cf0f9-152a-436e-910f-ad67d3c8816a\"\n",
    "\n",
    "# Usage example:\n",
    "submit_pocketgen_jobs(\n",
    "    input_dir=\"./examples/aligned_pocket_test\",\n",
    "    base_output_dir=\"./examples/output_pipeline\"\n",
    ")"
   ]
  },
  {
   "cell_type": "markdown",
   "metadata": {},
   "source": [
    "# Autodock Vina "
   ]
  },
  {
   "cell_type": "markdown",
   "metadata": {},
   "source": [
    "### 2. Run vina"
   ]
  },
  {
   "cell_type": "code",
   "execution_count": null,
   "metadata": {},
   "outputs": [
    {
     "name": "stderr",
     "output_type": "stream",
     "text": [
      "2025-01-31 16:36:02,818 - INFO - Loading enzyme from: data/vina_examples/1CLE_altloc_removed_com.pdbqt\n",
      "2025-01-31 16:36:02,834 - INFO - Loading ligand from: data/vina_examples/triacylglycerol_aligned.pdbqt\n",
      "2025-01-31 16:36:03,303 - INFO - Computing Vina maps (center=[-7.356333255767822, 5.261666774749756, -2.2339999675750732], box_size=[40, 40, 40])\n",
      "WARNING: Search space volume is greater than 27000 Angstrom^3 (See FAQ)\n",
      "2025-01-31 16:36:04,204 - INFO - Score before minimization: 157.651 (kcal/mol)\n",
      "2025-01-31 16:36:04,208 - INFO - Score after minimization: 59.905 (kcal/mol)\n",
      "2025-01-31 16:36:04,209 - INFO - Saved minimized pose to: data/vina_examples/docking_results/minimized_pose.pdbqt\n"
     ]
    }
   ],
   "source": [
    "from src.applications.autodock.run_docking import run_vina_docking\n",
    "\n",
    "results = run_vina_docking(\n",
    "    input_dir='./data/vina_examples/',\n",
    "    box_size=[40, 40, 40],\n",
    "    exhaustiveness=16,\n",
    "    n_poses=2,\n",
    "    n_poses_to_save=1\n",
    ")"
   ]
  },
  {
   "cell_type": "code",
   "execution_count": null,
   "metadata": {},
   "outputs": [],
   "source": []
  }
 ],
 "metadata": {
  "kernelspec": {
   "display_name": "enzyme_design",
   "language": "python",
   "name": "python3"
  },
  "language_info": {
   "codemirror_mode": {
    "name": "ipython",
    "version": 3
   },
   "file_extension": ".py",
   "mimetype": "text/x-python",
   "name": "python",
   "nbconvert_exporter": "python",
   "pygments_lexer": "ipython3",
   "version": "3.11.11"
  }
 },
 "nbformat": 4,
 "nbformat_minor": 2
}
