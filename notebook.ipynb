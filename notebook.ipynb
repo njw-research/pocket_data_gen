{
 "cells": [
  {
   "cell_type": "code",
   "execution_count": 5,
   "metadata": {},
   "outputs": [
    {
     "name": "stderr",
     "output_type": "stream",
     "text": [
      "2025-01-31 11:32:30,284 - INFO - Successfully loaded 171 entries from CSV\n",
      "2025-01-31 11:32:30,284 - INFO - Processing 4K6H...\n"
     ]
    },
    {
     "name": "stdout",
     "output_type": "stream",
     "text": [
      "The autoreload extension is already loaded. To reload it, use:\n",
      "  %reload_ext autoreload\n"
     ]
    },
    {
     "name": "stderr",
     "output_type": "stream",
     "text": [
      "2025-01-31 11:32:31,388 - INFO - Active site residues for 4K6H: ['S105', 'D187', 'H224']\n",
      "2025-01-31 11:32:31,389 - INFO - Successfully processed 4K6H\n",
      "2025-01-31 11:32:31,389 - INFO - Processing 6HW1...\n",
      "2025-01-31 11:32:32,839 - INFO - Active site residues for 6HW1: ['S146', 'D201', 'H258']\n",
      "2025-01-31 11:32:32,840 - INFO - Successfully processed 6HW1\n",
      "2025-01-31 11:32:32,840 - INFO - Processing 2PPL...\n",
      "2025-01-31 11:32:34,131 - INFO - Active site residues for 2PPL: ['S171', 'D194', 'H281']\n",
      "2025-01-31 11:32:34,131 - INFO - Successfully processed 2PPL\n",
      "2025-01-31 11:32:34,132 - INFO - Processing 8ZE9...\n",
      "2025-01-31 11:32:35,009 - INFO - Active site residues for 8ZE9: ['A154']\n",
      "2025-01-31 11:32:35,010 - INFO - Successfully processed 8ZE9\n",
      "2025-01-31 11:32:35,010 - INFO - Processing 9J5D...\n",
      "2025-01-31 11:32:36,497 - INFO - Active site residues for 9J5D: ['S154']\n",
      "2025-01-31 11:32:36,498 - INFO - Successfully processed 9J5D\n",
      "2025-01-31 11:32:36,498 - INFO - Processing 2NW6...\n",
      "2025-01-31 11:32:37,368 - INFO - Active site residues for 2NW6: ['S87', 'D264', 'H286']\n",
      "2025-01-31 11:32:37,368 - INFO - Successfully processed 2NW6\n",
      "2025-01-31 11:32:37,368 - INFO - Processing 1FFE...\n",
      "2025-01-31 11:32:38,259 - INFO - Active site residues for 1FFE: ['S120', 'D175', 'H188']\n",
      "2025-01-31 11:32:38,260 - INFO - Successfully processed 1FFE\n",
      "2025-01-31 11:32:38,260 - INFO - Processing 5CT6...\n",
      "2025-01-31 11:32:39,448 - INFO - Active site residues for 5CT6: ['S77', 'D133', 'H156']\n",
      "2025-01-31 11:32:39,449 - INFO - Successfully processed 5CT6\n",
      "2025-01-31 11:32:39,449 - INFO - Processing 6QPR...\n",
      "2025-01-31 11:32:40,583 - INFO - Active site residues for 6QPR: ['G240', 'V299', 'S353']\n",
      "2025-01-31 11:32:40,584 - INFO - Successfully processed 6QPR\n",
      "2025-01-31 11:32:40,584 - INFO - Processing 1TIB...\n",
      "2025-01-31 11:32:41,432 - INFO - Active site residues for 1TIB: ['S146', 'D201', 'H258']\n",
      "2025-01-31 11:32:41,433 - INFO - Successfully processed 1TIB\n",
      "2025-01-31 11:32:41,433 - INFO - Processing 5TGL...\n",
      "2025-01-31 11:32:42,127 - INFO - Active site residues for 5TGL: ['S144', 'D203', 'H257']\n",
      "2025-01-31 11:32:42,128 - INFO - Successfully processed 5TGL\n",
      "2025-01-31 11:32:42,128 - INFO - Processing 1N8S...\n",
      "2025-01-31 11:32:43,154 - INFO - Active site residues for 1N8S: ['S152', 'D176', 'H263']\n",
      "2025-01-31 11:32:43,154 - INFO - Successfully processed 1N8S\n",
      "2025-01-31 11:32:43,155 - INFO - Processing 9J1G...\n",
      "2025-01-31 11:32:44,904 - INFO - Active site residues for 9J1G: ['S154']\n",
      "2025-01-31 11:32:44,905 - INFO - Successfully processed 9J1G\n",
      "2025-01-31 11:32:44,905 - INFO - Processing 6XOK...\n",
      "2025-01-31 11:32:46,178 - INFO - Active site residues for 6XOK: ['S146', 'D201', 'H258']\n",
      "2025-01-31 11:32:46,179 - INFO - Successfully processed 6XOK\n",
      "2025-01-31 11:32:46,179 - INFO - Processing 1CRL...\n",
      "2025-01-31 11:32:47,241 - INFO - Active site residues for 1CRL: ['S209', 'E341', 'H449']\n",
      "2025-01-31 11:32:47,242 - INFO - Successfully processed 1CRL\n",
      "2025-01-31 11:32:47,242 - INFO - Processing 1CUH...\n",
      "2025-01-31 11:32:48,103 - INFO - Active site residues for 1CUH: ['S120', 'D175', 'H188']\n",
      "2025-01-31 11:32:48,104 - INFO - Successfully processed 1CUH\n",
      "2025-01-31 11:32:48,104 - INFO - Processing 1CVL...\n",
      "2025-01-31 11:32:48,976 - INFO - Active site residues for 1CVL: ['S87', 'D263', 'H285']\n",
      "2025-01-31 11:32:48,977 - INFO - Successfully processed 1CVL\n",
      "2025-01-31 11:32:48,977 - INFO - Processing 1EX9...\n",
      "2025-01-31 11:32:49,834 - INFO - Active site residues for 1EX9: ['S82', 'D229', 'H251']\n",
      "2025-01-31 11:32:49,834 - INFO - Successfully processed 1EX9\n",
      "2025-01-31 11:32:49,835 - INFO - Processing 1ETH...\n",
      "2025-01-31 11:32:51,510 - INFO - Active site residues for 1ETH: ['S153', 'D177', 'H264']\n",
      "2025-01-31 11:32:51,510 - INFO - Successfully processed 1ETH\n",
      "2025-01-31 11:32:51,510 - INFO - Processing 5CT9...\n",
      "2025-01-31 11:32:52,578 - INFO - Active site residues for 5CT9: ['S77', 'D133', 'H156']\n",
      "2025-01-31 11:32:52,579 - INFO - Successfully processed 5CT9\n",
      "2025-01-31 11:32:52,579 - INFO - Processing 2QXT...\n",
      "2025-01-31 11:32:53,476 - INFO - Active site residues for 2QXT: ['S77', 'D133', 'H156']\n",
      "2025-01-31 11:32:53,477 - INFO - Successfully processed 2QXT\n",
      "2025-01-31 11:32:53,477 - INFO - Processing 9J5B...\n",
      "2025-01-31 11:32:54,984 - INFO - Active site residues for 9J5B: ['S154']\n",
      "2025-01-31 11:32:54,984 - INFO - Successfully processed 9J5B\n",
      "2025-01-31 11:32:54,985 - INFO - Processing 1CUB...\n",
      "2025-01-31 11:32:55,821 - INFO - Active site residues for 1CUB: ['S120', 'D175', 'H188']\n",
      "2025-01-31 11:32:55,822 - INFO - Successfully processed 1CUB\n",
      "2025-01-31 11:32:55,822 - INFO - Processing 1CUZ...\n",
      "2025-01-31 11:32:56,678 - INFO - Active site residues for 1CUZ: ['S120', 'D175', 'H188']\n",
      "2025-01-31 11:32:56,678 - INFO - Successfully processed 1CUZ\n",
      "2025-01-31 11:32:56,679 - INFO - Processing 3D2B...\n",
      "2025-01-31 11:32:57,704 - INFO - Active site residues for 3D2B: ['S77', 'D133', 'H156']\n",
      "2025-01-31 11:32:57,705 - INFO - Successfully processed 3D2B\n",
      "2025-01-31 11:32:57,705 - INFO - Processing 1YS1...\n",
      "2025-01-31 11:32:58,516 - INFO - Active site residues for 1YS1: ['S87', 'D264', 'H286']\n",
      "2025-01-31 11:32:58,516 - INFO - Successfully processed 1YS1\n",
      "2025-01-31 11:32:58,516 - INFO - Processing 5AP9...\n",
      "2025-01-31 11:32:59,875 - INFO - Active site residues for 5AP9: ['S146', 'D201', 'H258']\n",
      "2025-01-31 11:32:59,876 - INFO - Successfully processed 5AP9\n",
      "2025-01-31 11:32:59,876 - INFO - Processing 9J57...\n",
      "2025-01-31 11:33:01,372 - INFO - Active site residues for 9J57: ['S154']\n",
      "2025-01-31 11:33:01,373 - INFO - Successfully processed 9J57\n",
      "2025-01-31 11:33:01,373 - INFO - Processing 1K8Q...\n",
      "2025-01-31 11:33:02,569 - INFO - Active site residues for 1K8Q: ['S153', 'D324', 'H353']\n",
      "2025-01-31 11:33:02,570 - INFO - Successfully processed 1K8Q\n",
      "2025-01-31 11:33:02,570 - INFO - Processing 2VEO...\n",
      "2025-01-31 11:33:03,811 - INFO - Active site residues for 2VEO: ['S184', 'D334', 'H366']\n",
      "2025-01-31 11:33:03,811 - INFO - Successfully processed 2VEO\n",
      "2025-01-31 11:33:03,811 - INFO - Processing 1T2N...\n",
      "2025-01-31 11:33:04,594 - INFO - Active site residues for 1T2N: ['S77', 'D133', 'H156']\n",
      "2025-01-31 11:33:04,594 - INFO - Successfully processed 1T2N\n",
      "2025-01-31 11:33:04,595 - INFO - Processing 1CUJ...\n",
      "2025-01-31 11:33:05,453 - INFO - Active site residues for 1CUJ: ['C120', 'D175', 'H188']\n",
      "2025-01-31 11:33:05,454 - INFO - Successfully processed 1CUJ\n",
      "2025-01-31 11:33:05,454 - INFO - Processing 3D2C...\n",
      "2025-01-31 11:33:07,503 - INFO - Active site residues for 3D2C: ['S77', 'D133', 'H156']\n",
      "2025-01-31 11:33:07,503 - INFO - Successfully processed 3D2C\n",
      "2025-01-31 11:33:07,503 - INFO - Processing 1HLG...\n",
      "2025-01-31 11:33:08,696 - INFO - Active site residues for 1HLG: ['S153', 'D324', 'H353']\n",
      "2025-01-31 11:33:08,696 - INFO - Successfully processed 1HLG\n",
      "2025-01-31 11:33:08,696 - INFO - Processing 5CT8...\n",
      "2025-01-31 11:33:09,804 - INFO - Active site residues for 5CT8: ['S77', 'D133', 'H156']\n",
      "2025-01-31 11:33:09,805 - INFO - Successfully processed 5CT8\n",
      "2025-01-31 11:33:09,805 - INFO - Processing 8S9R...\n",
      "2025-01-31 11:33:11,489 - INFO - Active site residues for 8S9R: ['S116', 'H349']\n",
      "2025-01-31 11:33:11,490 - INFO - Successfully processed 8S9R\n",
      "2025-01-31 11:33:11,490 - INFO - Processing 3QMM...\n",
      "2025-01-31 11:33:12,391 - INFO - Active site residues for 3QMM: ['S77', 'D133', 'H156']\n",
      "2025-01-31 11:33:12,392 - INFO - Successfully processed 3QMM\n",
      "2025-01-31 11:33:12,392 - INFO - Processing 1TCC...\n",
      "2025-01-31 11:33:13,461 - INFO - Active site residues for 1TCC: ['S105', 'D187', 'H224']\n",
      "2025-01-31 11:33:13,462 - INFO - Successfully processed 1TCC\n",
      "2025-01-31 11:33:13,462 - INFO - Processing 4FKB...\n",
      "2025-01-31 11:33:15,521 - INFO - Active site residues for 4FKB: ['S113', 'D317', 'H358']\n",
      "2025-01-31 11:33:15,522 - INFO - Successfully processed 4FKB\n",
      "2025-01-31 11:33:15,522 - INFO - Processing 4GBG...\n",
      "2025-01-31 11:33:16,569 - INFO - Active site residues for 4GBG: ['S146', 'D201', 'H258']\n",
      "2025-01-31 11:33:16,570 - INFO - Successfully processed 4GBG\n",
      "2025-01-31 11:33:16,570 - INFO - Processing 6QPP...\n",
      "2025-01-31 11:33:17,712 - INFO - Active site residues for 6QPP: ['S238', 'D297', 'H351']\n",
      "2025-01-31 11:33:17,712 - INFO - Successfully processed 6QPP\n",
      "2025-01-31 11:33:17,712 - INFO - Processing 9J59...\n",
      "2025-01-31 11:33:19,153 - INFO - Active site residues for 9J59: ['S154']\n",
      "2025-01-31 11:33:19,154 - INFO - Successfully processed 9J59\n",
      "2025-01-31 11:33:19,154 - INFO - Processing 1F6W...\n",
      "2025-01-31 11:33:20,221 - INFO - Active site residues for 1F6W: ['S194', 'D320', 'H435']\n",
      "2025-01-31 11:33:20,222 - INFO - Successfully processed 1F6W\n",
      "2025-01-31 11:33:20,222 - INFO - Processing 6OSZ...\n",
      "2025-01-31 11:33:24,469 - INFO - Active site residues for 6OSZ: ['S146', 'D201', 'H258']\n",
      "2025-01-31 11:33:24,469 - INFO - Successfully processed 6OSZ\n",
      "2025-01-31 11:33:24,469 - INFO - Processing 4GLB...\n",
      "2025-01-31 11:33:25,502 - INFO - Active site residues for 4GLB: ['S146', 'D201', 'H258']\n",
      "2025-01-31 11:33:25,503 - INFO - Successfully processed 4GLB\n",
      "2025-01-31 11:33:25,503 - INFO - Processing 1QGE...\n",
      "2025-01-31 11:33:26,492 - INFO - Active site residues for 1QGE: ['S87']\n",
      "2025-01-31 11:33:26,493 - INFO - Successfully processed 1QGE\n",
      "2025-01-31 11:33:26,493 - INFO - Processing 3GUU...\n",
      "2025-01-31 11:33:27,766 - INFO - Active site residues for 3GUU: ['S184', 'D334', 'H366']\n",
      "2025-01-31 11:33:27,767 - INFO - Successfully processed 3GUU\n",
      "2025-01-31 11:33:27,767 - INFO - Processing 1TCB...\n",
      "2025-01-31 11:33:28,844 - INFO - Active site residues for 1TCB: ['S105', 'D187', 'H224']\n",
      "2025-01-31 11:33:28,845 - INFO - Successfully processed 1TCB\n",
      "2025-01-31 11:33:28,845 - INFO - Processing 2PVS...\n",
      "2025-01-31 11:33:30,134 - INFO - Active site residues for 2PVS: ['S152', 'D176', 'H263']\n",
      "2025-01-31 11:33:30,134 - INFO - Successfully processed 2PVS\n",
      "2025-01-31 11:33:30,135 - INFO - Processing 1CUU...\n",
      "2025-01-31 11:33:30,991 - INFO - Active site residues for 1CUU: ['S120', 'D175', 'H188']\n",
      "2025-01-31 11:33:30,991 - INFO - Successfully processed 1CUU\n",
      "2025-01-31 11:33:30,992 - INFO - Processing 1R50...\n",
      "2025-01-31 11:33:31,888 - INFO - Active site residues for 1R50: ['S77', 'D133', 'H156']\n",
      "2025-01-31 11:33:31,889 - INFO - Successfully processed 1R50\n",
      "2025-01-31 11:33:31,889 - INFO - Processing 4K6K...\n",
      "2025-01-31 11:33:33,468 - INFO - Active site residues for 4K6K: ['S105', 'D187', 'H224']\n",
      "2025-01-31 11:33:33,468 - INFO - Successfully processed 4K6K\n",
      "2025-01-31 11:33:33,469 - INFO - Processing 1LBT...\n",
      "2025-01-31 11:33:34,552 - INFO - Active site residues for 1LBT: ['S105', 'D187', 'H224']\n",
      "2025-01-31 11:33:34,553 - INFO - Successfully processed 1LBT\n",
      "2025-01-31 11:33:34,553 - INFO - Processing 2QXU...\n",
      "2025-01-31 11:33:36,179 - INFO - Active site residues for 2QXU: ['S77', 'D133', 'H156']\n",
      "2025-01-31 11:33:36,179 - INFO - Successfully processed 2QXU\n",
      "2025-01-31 11:33:36,180 - INFO - Processing 1BU8...\n",
      "2025-01-31 11:33:37,160 - INFO - Active site residues for 1BU8: ['S152', 'D176', 'H263']\n",
      "2025-01-31 11:33:37,161 - INFO - Successfully processed 1BU8\n",
      "2025-01-31 11:33:37,161 - INFO - Processing 4DYH...\n",
      "2025-01-31 11:33:38,215 - INFO - Active site residues for 4DYH: ['S146', 'D201', 'H258']\n",
      "2025-01-31 11:33:38,216 - INFO - Successfully processed 4DYH\n",
      "2025-01-31 11:33:38,216 - INFO - Processing 1CUD...\n",
      "2025-01-31 11:33:39,418 - INFO - Active site residues for 1CUD: ['S120', 'D175', 'H188']\n",
      "2025-01-31 11:33:39,419 - INFO - Successfully processed 1CUD\n",
      "2025-01-31 11:33:39,419 - INFO - Processing 1RP1...\n",
      "2025-01-31 11:33:40,371 - INFO - Active site residues for 1RP1: ['S152', 'D176', 'H263']\n",
      "2025-01-31 11:33:40,372 - INFO - Successfully processed 1RP1\n",
      "2025-01-31 11:33:40,372 - INFO - Processing 1CUE...\n",
      "2025-01-31 11:33:41,225 - INFO - Active site residues for 1CUE: ['S120', 'D175', 'H188']\n",
      "2025-01-31 11:33:41,225 - INFO - Successfully processed 1CUE\n",
      "2025-01-31 11:33:41,225 - INFO - Processing 1HQD...\n",
      "2025-01-31 11:33:42,097 - INFO - Active site residues for 1HQD: ['S87', 'D264', 'H286']\n",
      "2025-01-31 11:33:42,097 - INFO - Successfully processed 1HQD\n",
      "2025-01-31 11:33:42,098 - INFO - Processing 6H1A...\n",
      "2025-01-31 11:33:43,144 - INFO - Active site residues for 6H1A: ['S194', 'D320', 'H435']\n",
      "2025-01-31 11:33:43,145 - INFO - Successfully processed 6H1A\n",
      "2025-01-31 11:33:43,145 - INFO - Processing 6J1T...\n",
      "2025-01-31 11:33:44,696 - INFO - Active site residues for 6J1T: ['S105', 'D187', 'H224']\n",
      "2025-01-31 11:33:44,696 - INFO - Successfully processed 6J1T\n",
      "2025-01-31 11:33:44,696 - INFO - Processing 7APP...\n",
      "2025-01-31 11:33:45,803 - INFO - Active site residues for 7APP: ['S146', 'D201', 'H258']\n",
      "2025-01-31 11:33:45,803 - INFO - Successfully processed 7APP\n",
      "2025-01-31 11:33:45,803 - INFO - Processing 6H18...\n",
      "2025-01-31 11:33:46,969 - INFO - Active site residues for 6H18: ['S194', 'D320', 'H435']\n",
      "2025-01-31 11:33:46,969 - INFO - Successfully processed 6H18\n",
      "2025-01-31 11:33:46,970 - INFO - Processing 3TGL...\n",
      "2025-01-31 11:33:47,807 - INFO - Active site residues for 3TGL: ['S144', 'D203', 'H257']\n",
      "2025-01-31 11:33:47,807 - INFO - Successfully processed 3TGL\n",
      "2025-01-31 11:33:47,808 - INFO - Processing 1I6W...\n",
      "2025-01-31 11:33:48,729 - INFO - Active site residues for 1I6W: ['S77', 'D133', 'H156']\n",
      "2025-01-31 11:33:48,729 - INFO - Successfully processed 1I6W\n",
      "2025-01-31 11:33:48,729 - INFO - Processing 2HIH...\n",
      "2025-01-31 11:33:49,908 - INFO - Active site residues for 2HIH: ['S124', 'D314', 'H355']\n",
      "2025-01-31 11:33:49,909 - INFO - Successfully processed 2HIH\n",
      "2025-01-31 11:33:49,909 - INFO - Processing 5CT5...\n",
      "2025-01-31 11:33:51,348 - INFO - Active site residues for 5CT5: ['S77', 'D133', 'H156']\n",
      "2025-01-31 11:33:51,348 - INFO - Successfully processed 5CT5\n",
      "2025-01-31 11:33:51,349 - INFO - Processing 1GPL...\n",
      "2025-01-31 11:33:52,434 - INFO - Active site residues for 1GPL: ['S152', 'D176', 'H263']\n",
      "2025-01-31 11:33:52,435 - INFO - Successfully processed 1GPL\n",
      "2025-01-31 11:33:52,435 - INFO - Processing 2BCE...\n",
      "2025-01-31 11:33:53,453 - INFO - Active site residues for 2BCE: ['S194', 'D320', 'H435']\n",
      "2025-01-31 11:33:53,454 - INFO - Successfully processed 2BCE\n",
      "2025-01-31 11:33:53,454 - INFO - Processing 9J5A...\n",
      "2025-01-31 11:33:54,984 - INFO - Active site residues for 9J5A: ['S154']\n",
      "2025-01-31 11:33:54,985 - INFO - Successfully processed 9J5A\n",
      "2025-01-31 11:33:54,986 - INFO - Processing 6O8V...\n",
      "2025-01-31 11:33:56,261 - INFO - Active site residues for 6O8V: ['S146', 'D201', 'H258']\n",
      "2025-01-31 11:33:56,262 - INFO - Successfully processed 6O8V\n",
      "2025-01-31 11:33:56,262 - INFO - Processing 3D2A...\n",
      "2025-01-31 11:33:57,027 - INFO - Active site residues for 3D2A: ['S77', 'D133', 'H156']\n",
      "2025-01-31 11:33:57,027 - INFO - Successfully processed 3D2A\n",
      "2025-01-31 11:33:57,027 - INFO - Processing 5CUR...\n",
      "2025-01-31 11:33:58,108 - INFO - Active site residues for 5CUR: ['S77', 'D133', 'H156']\n",
      "2025-01-31 11:33:58,109 - INFO - Successfully processed 5CUR\n",
      "2025-01-31 11:33:58,109 - INFO - Processing 6OR3...\n",
      "2025-01-31 11:33:59,477 - INFO - Active site residues for 6OR3: ['S146', 'D201', 'H258']\n",
      "2025-01-31 11:33:59,478 - INFO - Successfully processed 6OR3\n",
      "2025-01-31 11:33:59,478 - INFO - Processing 1GZ7...\n",
      "2025-01-31 11:34:01,617 - INFO - Active site residues for 1GZ7: ['S209', 'E341', 'H449']\n",
      "2025-01-31 11:34:01,617 - INFO - Successfully processed 1GZ7\n",
      "2025-01-31 11:34:01,618 - INFO - Processing 4GWL...\n",
      "2025-01-31 11:34:02,650 - INFO - Active site residues for 4GWL: ['S146', 'D201', 'H258']\n",
      "2025-01-31 11:34:02,650 - INFO - Successfully processed 4GWL\n",
      "2025-01-31 11:34:02,650 - INFO - Processing 8W98...\n",
      "2025-01-31 11:34:03,739 - INFO - Active site residues for 8W98: ['S154']\n",
      "2025-01-31 11:34:03,740 - INFO - Successfully processed 8W98\n",
      "2025-01-31 11:34:03,740 - INFO - Processing 1FFD...\n",
      "2025-01-31 11:34:04,599 - INFO - Active site residues for 1FFD: ['S120', 'D175', 'H188']\n",
      "2025-01-31 11:34:04,600 - INFO - Successfully processed 1FFD\n",
      "2025-01-31 11:34:04,600 - INFO - Processing 9J1V...\n",
      "2025-01-31 11:34:06,090 - INFO - Active site residues for 9J1V: ['S154']\n",
      "2025-01-31 11:34:06,090 - INFO - Successfully processed 9J1V\n",
      "2025-01-31 11:34:06,091 - INFO - Processing 1THG...\n",
      "2025-01-31 11:34:07,131 - INFO - Active site residues for 1THG: ['S217', 'E354', 'H463']\n",
      "2025-01-31 11:34:07,131 - INFO - Successfully processed 1THG\n",
      "2025-01-31 11:34:07,132 - INFO - Processing 1CUA...\n",
      "2025-01-31 11:34:07,961 - INFO - Active site residues for 1CUA: ['S120', 'D175', 'H188']\n",
      "2025-01-31 11:34:07,962 - INFO - Successfully processed 1CUA\n",
      "2025-01-31 11:34:07,962 - INFO - Processing 1CUC...\n",
      "2025-01-31 11:34:08,816 - INFO - Active site residues for 1CUC: ['S120', 'D175', 'H188']\n",
      "2025-01-31 11:34:08,817 - INFO - Successfully processed 1CUC\n",
      "2025-01-31 11:34:08,817 - INFO - Processing 4K5Q...\n",
      "2025-01-31 11:34:09,711 - INFO - Active site residues for 4K5Q: ['S105', 'D187', 'H224']\n",
      "2025-01-31 11:34:09,712 - INFO - Successfully processed 4K5Q\n",
      "2025-01-31 11:34:09,712 - INFO - Processing 4TGL...\n",
      "2025-01-31 11:34:10,560 - INFO - Active site residues for 4TGL: ['S144', 'D203', 'H257']\n",
      "2025-01-31 11:34:10,561 - INFO - Successfully processed 4TGL\n",
      "2025-01-31 11:34:10,561 - INFO - Processing 6H0V...\n",
      "2025-01-31 11:34:11,744 - INFO - Active site residues for 6H0V: ['S194', 'D320', 'H435']\n",
      "2025-01-31 11:34:11,745 - INFO - Successfully processed 6H0V\n",
      "2025-01-31 11:34:11,745 - INFO - Processing 1YS2...\n",
      "2025-01-31 11:34:12,606 - INFO - Active site residues for 1YS2: ['S87', 'D264', 'H286']\n",
      "2025-01-31 11:34:12,606 - INFO - Successfully processed 1YS2\n",
      "2025-01-31 11:34:12,606 - INFO - Processing 6ISQ...\n",
      "2025-01-31 11:34:14,106 - INFO - Active site residues for 6ISQ: ['C105', 'D187', 'H224']\n",
      "2025-01-31 11:34:14,107 - INFO - Successfully processed 6ISQ\n",
      "2025-01-31 11:34:14,107 - INFO - Processing 1DU4...\n",
      "2025-01-31 11:34:15,587 - INFO - Active site residues for 1DU4: ['S146', 'D201', 'H258']\n",
      "2025-01-31 11:34:15,587 - INFO - Successfully processed 1DU4\n",
      "2025-01-31 11:34:15,588 - INFO - Processing 1GT6...\n",
      "2025-01-31 11:34:16,584 - INFO - Active site residues for 1GT6: ['A146', 'D201', 'H258']\n",
      "2025-01-31 11:34:16,584 - INFO - Successfully processed 1GT6\n",
      "2025-01-31 11:34:16,585 - INFO - Processing 5A6V...\n",
      "2025-01-31 11:34:17,696 - INFO - Active site residues for 5A6V: ['S105', 'D187', 'H224']\n",
      "2025-01-31 11:34:17,696 - INFO - Successfully processed 5A6V\n",
      "2025-01-31 11:34:17,696 - INFO - Processing 5CT4...\n",
      "2025-01-31 11:34:19,129 - INFO - Active site residues for 5CT4: ['S77', 'D133', 'H156']\n",
      "2025-01-31 11:34:19,129 - INFO - Successfully processed 5CT4\n",
      "2025-01-31 11:34:19,130 - INFO - Processing 1EIN...\n",
      "2025-01-31 11:34:20,349 - INFO - Active site residues for 1EIN: ['S146', 'D201', 'H258']\n",
      "2025-01-31 11:34:20,350 - INFO - Successfully processed 1EIN\n",
      "2025-01-31 11:34:20,350 - INFO - Processing 1FFA...\n",
      "2025-01-31 11:34:21,223 - INFO - Active site residues for 1FFA: ['S120', 'D175', 'H188']\n",
      "2025-01-31 11:34:21,224 - INFO - Successfully processed 1FFA\n",
      "2025-01-31 11:34:21,224 - INFO - Processing 3W9B...\n",
      "2025-01-31 11:34:23,485 - INFO - Active site residues for 3W9B: ['S105', 'D187', 'H224']\n",
      "2025-01-31 11:34:23,486 - INFO - Successfully processed 3W9B\n",
      "2025-01-31 11:34:23,486 - INFO - Processing 3ICW...\n",
      "2025-01-31 11:34:24,384 - INFO - Active site residues for 3ICW: ['S139', 'D221', 'H258']\n",
      "2025-01-31 11:34:24,384 - INFO - Successfully processed 3ICW\n",
      "2025-01-31 11:34:24,384 - INFO - Processing 1CUF...\n",
      "2025-01-31 11:34:25,262 - INFO - Active site residues for 1CUF: ['S120', 'D175', 'H188']\n",
      "2025-01-31 11:34:25,263 - INFO - Successfully processed 1CUF\n",
      "2025-01-31 11:34:25,263 - INFO - Processing 1TAH...\n",
      "2025-01-31 11:34:26,680 - INFO - Active site residues for 1TAH: ['S87', 'D263', 'H285']\n",
      "2025-01-31 11:34:26,680 - INFO - Successfully processed 1TAH\n",
      "2025-01-31 11:34:26,681 - INFO - Processing 1ISP...\n",
      "2025-01-31 11:34:27,456 - INFO - Active site residues for 1ISP: ['S77', 'D133', 'H156']\n",
      "2025-01-31 11:34:27,456 - INFO - Successfully processed 1ISP\n",
      "2025-01-31 11:34:27,457 - INFO - Processing 3ICV...\n",
      "2025-01-31 11:34:28,350 - INFO - Active site residues for 3ICV: ['S139', 'D221', 'H258']\n",
      "2025-01-31 11:34:28,350 - INFO - Successfully processed 3ICV\n",
      "2025-01-31 11:34:28,351 - INFO - Processing 5LIP...\n",
      "2025-01-31 11:34:29,347 - INFO - Active site residues for 5LIP: ['S87', 'D264', 'H286']\n",
      "2025-01-31 11:34:29,348 - INFO - Successfully processed 5LIP\n",
      "2025-01-31 11:34:29,348 - INFO - Processing 1TRH...\n",
      "2025-01-31 11:34:30,390 - INFO - Active site residues for 1TRH: ['S209', 'E341', 'H449']\n",
      "2025-01-31 11:34:30,390 - INFO - Successfully processed 1TRH\n",
      "2025-01-31 11:34:30,390 - INFO - Processing 6J1P...\n",
      "2025-01-31 11:34:31,917 - INFO - Active site residues for 6J1P: ['S105', 'D187', 'H224']\n",
      "2025-01-31 11:34:31,917 - INFO - Successfully processed 6J1P\n",
      "2025-01-31 11:34:31,918 - INFO - Processing 1LPN...\n",
      "2025-01-31 11:34:32,946 - INFO - Active site residues for 1LPN: ['S209', 'E341', 'H449']\n",
      "2025-01-31 11:34:32,947 - INFO - Successfully processed 1LPN\n",
      "2025-01-31 11:34:32,947 - INFO - Processing 1T4M...\n",
      "2025-01-31 11:34:33,734 - INFO - Active site residues for 1T4M: ['S77', 'D133', 'H156']\n",
      "2025-01-31 11:34:33,738 - INFO - Successfully processed 1T4M\n",
      "2025-01-31 11:34:33,738 - INFO - Processing 8SPK...\n",
      "2025-01-31 11:34:35,159 - INFO - Active site residues for 8SPK: ['S189']\n",
      "2025-01-31 11:34:35,160 - INFO - Successfully processed 8SPK\n",
      "2025-01-31 11:34:35,160 - INFO - Processing 5CRI...\n",
      "2025-01-31 11:34:36,610 - INFO - Active site residues for 5CRI: ['S77', 'D133', 'H156']\n",
      "2025-01-31 11:34:36,611 - INFO - Successfully processed 5CRI\n",
      "2025-01-31 11:34:36,611 - INFO - Processing 5CTA...\n",
      "2025-01-31 11:34:37,738 - INFO - Active site residues for 5CTA: ['S77', 'D133', 'H156']\n",
      "2025-01-31 11:34:37,738 - INFO - Successfully processed 5CTA\n",
      "2025-01-31 11:34:37,738 - INFO - Processing 6O9F...\n",
      "2025-01-31 11:34:40,569 - INFO - Active site residues for 6O9F: ['S146', 'D201', 'H258']\n",
      "2025-01-31 11:34:40,569 - INFO - Successfully processed 6O9F\n",
      "2025-01-31 11:34:40,570 - INFO - Processing 6H0T...\n",
      "2025-01-31 11:34:41,614 - INFO - Active site residues for 6H0T: ['S194', 'D320', 'H435']\n",
      "2025-01-31 11:34:41,614 - INFO - Successfully processed 6H0T\n",
      "2025-01-31 11:34:41,614 - INFO - Processing 6H19...\n",
      "2025-01-31 11:34:42,646 - INFO - Active site residues for 6H19: ['S194', 'D320', 'H435']\n",
      "2025-01-31 11:34:42,646 - INFO - Successfully processed 6H19\n",
      "2025-01-31 11:34:42,647 - INFO - Processing 3QZU...\n",
      "2025-01-31 11:34:43,703 - INFO - Active site residues for 3QZU: ['S77', 'D133', 'H156']\n",
      "2025-01-31 11:34:43,703 - INFO - Successfully processed 3QZU\n",
      "2025-01-31 11:34:43,704 - INFO - Processing 1CUY...\n",
      "2025-01-31 11:34:44,543 - INFO - Active site residues for 1CUY: ['S120', 'D175', 'H188']\n",
      "2025-01-31 11:34:44,544 - INFO - Successfully processed 1CUY\n",
      "2025-01-31 11:34:44,544 - INFO - Processing 6J1R...\n",
      "2025-01-31 11:34:46,064 - INFO - Active site residues for 6J1R: ['S105', 'D187', 'H224']\n",
      "2025-01-31 11:34:46,065 - INFO - Successfully processed 6J1R\n",
      "2025-01-31 11:34:46,065 - INFO - Processing 1TIC...\n",
      "2025-01-31 11:34:46,741 - INFO - Active site residues for 1TIC: ['S145', 'D204', 'H257']\n",
      "2025-01-31 11:34:46,741 - INFO - Successfully processed 1TIC\n",
      "2025-01-31 11:34:46,742 - INFO - Processing 1DT5...\n",
      "2025-01-31 11:34:48,795 - INFO - Active site residues for 1DT5: ['S146', 'D201', 'H258']\n",
      "2025-01-31 11:34:48,795 - INFO - Successfully processed 1DT5\n",
      "2025-01-31 11:34:48,796 - INFO - Processing 1R4Z...\n",
      "2025-01-31 11:34:49,709 - INFO - Active site residues for 1R4Z: ['S77', 'D133', 'H156']\n",
      "2025-01-31 11:34:49,709 - INFO - Successfully processed 1R4Z\n",
      "2025-01-31 11:34:49,709 - INFO - Processing 1TGL...\n",
      "2025-01-31 11:34:50,303 - INFO - Active site residues for 1TGL: ['S144', 'D203', 'H257']\n",
      "2025-01-31 11:34:50,303 - INFO - Successfully processed 1TGL\n",
      "2025-01-31 11:34:50,303 - INFO - Processing 3LIP...\n",
      "2025-01-31 11:34:51,134 - INFO - Active site residues for 3LIP: ['S87', 'D264', 'H286']\n",
      "2025-01-31 11:34:51,134 - INFO - Successfully processed 3LIP\n",
      "2025-01-31 11:34:51,134 - INFO - Processing 7APN...\n",
      "2025-01-31 11:34:52,225 - INFO - Active site residues for 7APN: ['S146', 'D201', 'H258']\n",
      "2025-01-31 11:34:52,226 - INFO - Successfully processed 7APN\n",
      "2025-01-31 11:34:52,226 - INFO - Processing 9J1E...\n",
      "2025-01-31 11:34:53,746 - INFO - Active site residues for 9J1E: ['S154']\n",
      "2025-01-31 11:34:53,747 - INFO - Successfully processed 9J1E\n",
      "2025-01-31 11:34:53,747 - INFO - Processing 1TIA...\n",
      "2025-01-31 11:34:54,329 - INFO - Active site residues for 1TIA: ['S145', 'D199', 'H259']\n",
      "2025-01-31 11:34:54,329 - INFO - Successfully processed 1TIA\n",
      "2025-01-31 11:34:54,329 - INFO - Processing 1LPM...\n",
      "2025-01-31 11:34:55,375 - INFO - Active site residues for 1LPM: ['S209', 'E341', 'H449']\n",
      "2025-01-31 11:34:55,375 - INFO - Successfully processed 1LPM\n",
      "2025-01-31 11:34:55,376 - INFO - Processing 1JMY...\n",
      "2025-01-31 11:34:56,362 - INFO - Active site residues for 1JMY: ['S194', 'D320', 'H435']\n",
      "2025-01-31 11:34:56,363 - INFO - Successfully processed 1JMY\n",
      "2025-01-31 11:34:56,363 - INFO - Processing 4ZV7...\n",
      "2025-01-31 11:34:57,455 - INFO - Active site residues for 4ZV7: ['S105', 'D187', 'H224']\n",
      "2025-01-31 11:34:57,455 - INFO - Successfully processed 4ZV7\n",
      "2025-01-31 11:34:57,456 - INFO - Processing 6ISP...\n",
      "2025-01-31 11:34:59,973 - INFO - Active site residues for 6ISP: ['S105', 'D187', 'H224']\n",
      "2025-01-31 11:34:59,973 - INFO - Successfully processed 6ISP\n",
      "2025-01-31 11:34:59,974 - INFO - Processing 2LIP...\n",
      "2025-01-31 11:35:00,960 - INFO - Active site residues for 2LIP: ['S87', 'D264', 'H286']\n",
      "2025-01-31 11:35:00,960 - INFO - Successfully processed 2LIP\n",
      "2025-01-31 11:35:00,961 - INFO - Processing 1AQL...\n",
      "2025-01-31 11:35:02,331 - INFO - Active site residues for 1AQL: ['S194', 'D320', 'H435']\n",
      "2025-01-31 11:35:02,332 - INFO - Successfully processed 1AQL\n",
      "2025-01-31 11:35:02,332 - INFO - Processing 4KJX...\n",
      "2025-01-31 11:35:03,329 - INFO - Active site residues for 4KJX: ['S146', 'D201', 'H258']\n",
      "2025-01-31 11:35:03,329 - INFO - Successfully processed 4KJX\n",
      "2025-01-31 11:35:03,330 - INFO - Processing 4GI1...\n",
      "2025-01-31 11:35:04,333 - INFO - Active site residues for 4GI1: ['S146', 'D201', 'H258']\n",
      "2025-01-31 11:35:04,333 - INFO - Successfully processed 4GI1\n",
      "2025-01-31 11:35:04,333 - INFO - Processing 1LBS...\n",
      "2025-01-31 11:35:06,149 - INFO - Active site residues for 1LBS: ['S105', 'D187', 'H224']\n",
      "2025-01-31 11:35:06,150 - INFO - Successfully processed 1LBS\n",
      "2025-01-31 11:35:06,150 - INFO - Processing 2ES4...\n",
      "2025-01-31 11:35:07,589 - INFO - Active site residues for 2ES4: ['S87', 'D263', 'H285']\n",
      "2025-01-31 11:35:07,589 - INFO - Successfully processed 2ES4\n",
      "2025-01-31 11:35:07,589 - INFO - Processing 1DT3...\n",
      "2025-01-31 11:35:08,621 - INFO - Active site residues for 1DT3: ['S146', 'D201', 'H258']\n",
      "2025-01-31 11:35:08,621 - INFO - Successfully processed 1DT3\n",
      "2025-01-31 11:35:08,621 - INFO - Processing 4K6G...\n",
      "2025-01-31 11:35:09,695 - INFO - Active site residues for 4K6G: ['S105', 'D187', 'H224']\n",
      "2025-01-31 11:35:09,695 - INFO - Successfully processed 4K6G\n",
      "2025-01-31 11:35:09,696 - INFO - Processing 1CUV...\n",
      "2025-01-31 11:35:10,567 - INFO - Active site residues for 1CUV: ['S120', 'D175', 'H188']\n",
      "2025-01-31 11:35:10,568 - INFO - Successfully processed 1CUV\n",
      "2025-01-31 11:35:10,568 - INFO - Processing 4GHW...\n",
      "2025-01-31 11:35:11,614 - INFO - Active site residues for 4GHW: ['S146', 'D201', 'H258']\n",
      "2025-01-31 11:35:11,615 - INFO - Successfully processed 4GHW\n",
      "2025-01-31 11:35:11,615 - INFO - Processing 9J5C...\n",
      "2025-01-31 11:35:12,921 - INFO - Active site residues for 9J5C: ['S154']\n",
      "2025-01-31 11:35:12,921 - INFO - Successfully processed 9J5C\n",
      "2025-01-31 11:35:12,922 - INFO - Processing 2OXE...\n",
      "2025-01-31 11:35:14,777 - INFO - Active site residues for 2OXE: ['S171', 'D195', 'H282']\n",
      "2025-01-31 11:35:14,778 - INFO - Successfully processed 2OXE\n",
      "2025-01-31 11:35:14,778 - INFO - Processing 6J1Q...\n",
      "2025-01-31 11:35:16,338 - INFO - Active site residues for 6J1Q: ['S105', 'D187', 'H224']\n",
      "2025-01-31 11:35:16,338 - INFO - Successfully processed 6J1Q\n",
      "2025-01-31 11:35:16,338 - INFO - Processing 6XRV...\n",
      "2025-01-31 11:35:20,579 - INFO - Active site residues for 6XRV: ['S146', 'D201', 'H258']\n",
      "2025-01-31 11:35:20,580 - INFO - Successfully processed 6XRV\n",
      "2025-01-31 11:35:20,580 - INFO - Processing 1HPL...\n",
      "2025-01-31 11:35:21,928 - INFO - Active site residues for 1HPL: ['S152', 'D176', 'H263']\n",
      "2025-01-31 11:35:21,928 - INFO - Successfully processed 1HPL\n",
      "2025-01-31 11:35:21,929 - INFO - Processing 4N8S...\n",
      "2025-01-31 11:35:22,955 - INFO - Active site residues for 4N8S: ['S146', 'D201', 'H258']\n",
      "2025-01-31 11:35:22,955 - INFO - Successfully processed 4N8S\n",
      "2025-01-31 11:35:22,956 - INFO - Processing 1FFB...\n",
      "2025-01-31 11:35:23,805 - INFO - Active site residues for 1FFB: ['S120', 'D175', 'H188']\n",
      "2025-01-31 11:35:23,806 - INFO - Successfully processed 1FFB\n",
      "2025-01-31 11:35:23,806 - INFO - Processing 1DTE...\n",
      "2025-01-31 11:35:24,801 - INFO - Active site residues for 1DTE: ['S146', 'D201', 'H258']\n",
      "2025-01-31 11:35:24,801 - INFO - Successfully processed 1DTE\n",
      "2025-01-31 11:35:24,801 - INFO - Processing 1TCA...\n",
      "2025-01-31 11:35:25,675 - INFO - Active site residues for 1TCA: ['S105', 'D187', 'H224']\n",
      "2025-01-31 11:35:25,676 - INFO - Successfully processed 1TCA\n",
      "2025-01-31 11:35:25,676 - INFO - Processing 1LPO...\n",
      "2025-01-31 11:35:26,694 - INFO - Active site residues for 1LPO: ['S209', 'E341', 'H449']\n",
      "2025-01-31 11:35:26,695 - INFO - Successfully processed 1LPO\n",
      "2025-01-31 11:35:26,695 - INFO - Processing 4S0X...\n",
      "2025-01-31 11:35:27,749 - INFO - Active site residues for 4S0X: ['S146', 'D201', 'H258']\n",
      "2025-01-31 11:35:27,750 - INFO - Successfully processed 4S0X\n",
      "2025-01-31 11:35:27,750 - INFO - Processing 4ZGB...\n",
      "2025-01-31 11:35:28,823 - INFO - Active site residues for 4ZGB: ['S146', 'D201', 'H258']\n",
      "2025-01-31 11:35:28,824 - INFO - Successfully processed 4ZGB\n",
      "2025-01-31 11:35:28,824 - INFO - Processing 1W52...\n",
      "2025-01-31 11:35:29,769 - INFO - Active site residues for 1W52: ['S154', 'D178', 'H265']\n",
      "2025-01-31 11:35:29,770 - INFO - Successfully processed 1W52\n",
      "2025-01-31 11:35:29,770 - INFO - Processing 6XS3...\n",
      "2025-01-31 11:35:32,543 - INFO - Active site residues for 6XS3: ['S146', 'D201', 'H258']\n",
      "2025-01-31 11:35:32,544 - INFO - Successfully processed 6XS3\n",
      "2025-01-31 11:35:32,544 - INFO - Processing 4EA6...\n",
      "2025-01-31 11:35:33,590 - INFO - Active site residues for 4EA6: ['S146', 'D201', 'H258']\n",
      "2025-01-31 11:35:33,591 - INFO - Successfully processed 4EA6\n",
      "2025-01-31 11:35:33,591 - INFO - Processing 1LPS...\n",
      "2025-01-31 11:35:34,704 - INFO - Active site residues for 1LPS: ['S209', 'E341', 'H449']\n",
      "2025-01-31 11:35:34,705 - INFO - Successfully processed 1LPS\n",
      "2025-01-31 11:35:34,705 - INFO - Processing 1LGY...\n",
      "2025-01-31 11:35:35,910 - INFO - Active site residues for 1LGY: ['S145', 'D204', 'H257']\n",
      "2025-01-31 11:35:35,910 - INFO - Successfully processed 1LGY\n",
      "2025-01-31 11:35:35,911 - INFO - Processing 1LPP...\n",
      "2025-01-31 11:35:36,972 - INFO - Active site residues for 1LPP: ['S209', 'E341', 'H449']\n",
      "2025-01-31 11:35:36,972 - INFO - Successfully processed 1LPP\n",
      "2025-01-31 11:35:36,973 - INFO - Processing 3RAR...\n",
      "2025-01-31 11:35:38,034 - INFO - Active site residues for 3RAR: ['S209', 'E341', 'H449']\n",
      "2025-01-31 11:35:38,034 - INFO - Successfully processed 3RAR\n",
      "2025-01-31 11:35:38,034 - INFO - Processing 6J1S...\n",
      "2025-01-31 11:35:39,511 - INFO - Active site residues for 6J1S: ['S105', 'D187', 'H224']\n",
      "2025-01-31 11:35:39,512 - INFO - Successfully processed 6J1S\n",
      "2025-01-31 11:35:39,512 - INFO - Processing 6TP8...\n",
      "2025-01-31 11:35:40,914 - INFO - Active site residues for 6TP8: ['S105', 'D187', 'H224']\n",
      "2025-01-31 11:35:40,914 - INFO - Successfully processed 6TP8\n",
      "2025-01-31 11:35:40,914 - INFO - Processing 1CUW...\n",
      "2025-01-31 11:35:41,959 - INFO - Active site residues for 1CUW: ['S120', 'D175', 'H188']\n",
      "2025-01-31 11:35:41,959 - INFO - Successfully processed 1CUW\n",
      "2025-01-31 11:35:41,960 - INFO - Processing 1OIL...\n",
      "2025-01-31 11:35:43,003 - INFO - Active site residues for 1OIL: ['S87', 'D264', 'H286']\n",
      "2025-01-31 11:35:43,003 - INFO - Successfully processed 1OIL\n",
      "2025-01-31 11:35:43,004 - INFO - Processing 9J58...\n",
      "2025-01-31 11:35:44,560 - INFO - Active site residues for 9J58: ['S154']\n",
      "2025-01-31 11:35:44,561 - INFO - Successfully processed 9J58\n",
      "2025-01-31 11:35:44,561 - INFO - Processing 1AKN...\n",
      "2025-01-31 11:35:45,555 - INFO - Active site residues for 1AKN: ['S194', 'D320', 'H435']\n",
      "2025-01-31 11:35:45,555 - INFO - Successfully processed 1AKN\n",
      "2025-01-31 11:35:45,556 - INFO - Processing 1CUI...\n",
      "2025-01-31 11:35:46,407 - INFO - Active site residues for 1CUI: ['A120', 'D175', 'H188']\n",
      "2025-01-31 11:35:46,407 - INFO - Successfully processed 1CUI\n",
      "2025-01-31 11:35:46,408 - INFO - Processing 1CLE...\n",
      "2025-01-31 11:35:47,921 - INFO - Active site residues for 1CLE: ['S209', 'E341', 'H449']\n",
      "2025-01-31 11:35:47,921 - INFO - Successfully processed 1CLE\n",
      "2025-01-31 11:35:47,922 - INFO - Processing 5A71...\n",
      "2025-01-31 11:35:49,594 - INFO - Active site residues for 5A71: ['S105', 'D187', 'H224']\n",
      "2025-01-31 11:35:49,594 - INFO - Successfully processed 5A71\n",
      "2025-01-31 11:35:49,594 - INFO - Processing 1FFC...\n",
      "2025-01-31 11:35:50,466 - INFO - Active site residues for 1FFC: ['S120', 'D175', 'H188']\n",
      "2025-01-31 11:35:50,467 - INFO - Successfully processed 1FFC\n",
      "2025-01-31 11:35:50,467 - INFO - Processing 4FLF...\n",
      "2025-01-31 11:35:51,514 - INFO - Active site residues for 4FLF: ['S146', 'D201', 'H258']\n",
      "2025-01-31 11:35:51,514 - INFO - Successfully processed 4FLF\n",
      "2025-01-31 11:35:51,514 - INFO - Processing 4LIP...\n",
      "2025-01-31 11:35:52,597 - INFO - Active site residues for 4LIP: ['S87', 'D264', 'H286']\n",
      "2025-01-31 11:35:52,597 - INFO - Successfully processed 4LIP\n",
      "2025-01-31 11:35:52,597 - INFO - Processing 1CUG...\n",
      "2025-01-31 11:35:53,458 - INFO - Active site residues for 1CUG: ['S120', 'D175', 'H188']\n",
      "2025-01-31 11:35:53,458 - INFO - Successfully processed 1CUG\n",
      "2025-01-31 11:35:53,459 - INFO - Processing 5MAL...\n",
      "2025-01-31 11:35:54,437 - INFO - Active site residues for 5MAL: ['S10', 'H216']\n",
      "2025-01-31 11:35:54,437 - INFO - Successfully processed 5MAL\n",
      "2025-01-31 11:35:54,437 - INFO - Processing 1CUX...\n",
      "2025-01-31 11:35:55,265 - INFO - Active site residues for 1CUX: ['S120', 'D175', 'H188']\n",
      "2025-01-31 11:35:55,266 - INFO - Successfully processed 1CUX\n",
      "2025-01-31 11:35:55,266 - INFO - Processing 6ISR...\n",
      "2025-01-31 11:35:56,729 - INFO - Active site residues for 6ISR: ['C105', 'D187', 'H224']\n",
      "2025-01-31 11:35:56,730 - INFO - Successfully processed 6ISR\n"
     ]
    }
   ],
   "source": [
    "from src.utils.process_pdb_list import process_pdb_list\n",
    "\n",
    "%load_ext autoreload\n",
    "%autoreload 2\n",
    "\n",
    "# # Usage examples:\n",
    "# # Process all chains\n",
    "# process_pdb_list(\n",
    "#     \"./data/enzyme/initial_data.csv\",\n",
    "#     \"./data/enzyme/initial_clean_pdbs_test/\",\n",
    "#     key_residues_dict=[]\n",
    "# )\n",
    "\n",
    "# # Process only chain A\n",
    "# process_pdb_list(\n",
    "#     \"./data/enzyme/initial_data.csv\",\n",
    "#     \"./data/enzyme/initial_clean_pdbs_chain_A_test/\",\n",
    "#     key_residues_dict=[],\n",
    "#     chain='A'\n",
    "# )\n",
    "\n",
    "# from src.utils.run_pocketgen import submit_pocketgen_jobs\n",
    "\n",
    "# # Usage example:\n",
    "# submit_pocketgen_jobs(\n",
    "#     pdb_dir=\"./data/pdbs/initial_clean_pdbs\",\n",
    "#     sdf_dir=\"./data/ligand_sdf\",\n",
    "#     base_output_dir=\"./output_pipeline\"\n",
    "# )"
   ]
  },
  {
   "cell_type": "markdown",
   "metadata": {},
   "source": [
    "# Autodock Vina "
   ]
  },
  {
   "cell_type": "markdown",
   "metadata": {},
   "source": [
    "### 1. Ligand and enzyme preparation "
   ]
  },
  {
   "cell_type": "code",
   "execution_count": 25,
   "metadata": {},
   "outputs": [
    {
     "name": "stderr",
     "output_type": "stream",
     "text": [
      "2025-01-31 13:50:05,387 - INFO - Loaded residue IDs from active_site.txt: ['S209', 'E341', 'H449']\n",
      "2025-01-31 13:50:05,428 - INFO - Shifted enzyme center of mass: data/vina_examples/1CLE_altloc_removed_com.pdb\n",
      "2025-01-31 13:50:05,441 - INFO - Active site center found at: [-7.3563333  5.261667  -2.234    ]\n",
      "@> 4036 atoms and 1 coordinate set(s) were parsed in 0.01s.\n",
      "2025-01-31 13:50:08,363 - INFO - Prepared enzyme PDBQT: data/vina_examples/1CLE_altloc_removed_com.pdbqt\n"
     ]
    },
    {
     "name": "stdout",
     "output_type": "stream",
     "text": [
      "\n",
      "Files written:\n",
      "data/vina_examples/1CLE_altloc_removed_com.pdbqt <-- static (i.e., rigid) receptor input file\n",
      "Aligned ligand: data/vina_examples/triacylglycerol_aligned.sdf\n",
      "Input molecules processed: 1, skipped: 0\n",
      "PDBQT files written: 1\n",
      "PDBQT files not written due to error: 0\n",
      "Input molecules with errors: 0\n",
      "Prepared ligand PDBQT: data/vina_examples/triacylglycerol_aligned.pdbqt\n"
     ]
    }
   ],
   "source": [
    "from src.applications.autodock.utils import prepare_enzyme\n",
    "from src.applications.autodock.allign_ligand import prepare_ligand\n",
    "\n",
    "ligand_path = './data/vina_examples/triacylglycerol'\n",
    "enzyme_path = './data/vina_examples/1CLE_altloc_removed.pdb'\n",
    "residue_ids = ['S146', 'D201', 'H258']\n",
    "\n",
    "enzyme_pdbqt, mean_act_site = prepare_enzyme(\n",
    "    enzyme_path=enzyme_path\n",
    ")\n",
    "\n",
    "ligand_pdbqt = prepare_ligand(\n",
    "    ligand_path='data/vina_examples/triacylglycerol.sdf',\n",
    "    active_site_com= mean_act_site\n",
    ")\n",
    "\n",
    "# ligand_pdbqt = prepare_ligand(\n",
    "#     ligand_path=ligand_path,\n",
    "#     target_com=mean_act_site\n",
    "# )"
   ]
  },
  {
   "cell_type": "code",
   "execution_count": null,
   "metadata": {},
   "outputs": [],
   "source": []
  },
  {
   "cell_type": "code",
   "execution_count": null,
   "metadata": {},
   "outputs": [],
   "source": []
  },
  {
   "cell_type": "code",
   "execution_count": 27,
   "metadata": {},
   "outputs": [
    {
     "name": "stderr",
     "output_type": "stream",
     "text": [
      "2025-01-31 13:56:58,926 - INFO - Found 5 PDB files and 3 SDF files\n",
      "2025-01-31 13:56:58,927 - INFO - Created output directory: vina_output_test/vina_prep_20250131_135658\n",
      "2025-01-31 13:56:58,927 - INFO - \n",
      "Processing:\n",
      "PDB: ./data/enzyme/initial_clean_pdbs_chain_A_small/1BU8_chain_A/1BU8_altloc_removed.pdb\n",
      "SDF: ./data/ligand/sdf/ester.sdf\n",
      "Output: vina_output_test/vina_prep_20250131_135658/ester/1BU8_chain_A\n",
      "2025-01-31 13:56:58,929 - INFO - Loaded residue IDs from active_site.txt: ['S152', 'D176', 'H263']\n",
      "2025-01-31 13:56:58,961 - INFO - Shifted enzyme center of mass: vina_output_test/vina_prep_20250131_135658/ester/1BU8_chain_A/1BU8_altloc_removed_com.pdb\n",
      "2025-01-31 13:56:58,971 - INFO - Active site center found at: [-2.7713335  3.6096668 -8.041    ]\n",
      "@> 3518 atoms and 1 coordinate set(s) were parsed in 0.01s.\n",
      "No template matched for residue_key='A:244'\n",
      "tried 3 templates for residue_key='A:244'excess_H_ok=False\n",
      "THR        heavy_miss=2 heavy_excess=0 H_excess=[] bond_miss=set() bond_excess={1}\n",
      "NTHR       heavy_miss=2 heavy_excess=0 H_excess=[] bond_miss=set() bond_excess={1, 4}\n",
      "CTHR       heavy_miss=3 heavy_excess=0 H_excess=[] bond_miss=set() bond_excess={0, 1}\n",
      "\n",
      "No template matched for residue_key='A:245'\n",
      "tried 3 templates for residue_key='A:245'excess_H_ok=False\n",
      "ILE        heavy_miss=0 heavy_excess=0 H_excess=[] bond_miss=set() bond_excess={1}\n",
      "NILE       heavy_miss=0 heavy_excess=0 H_excess=[] bond_miss=set() bond_excess={1, 4}\n",
      "CILE       heavy_miss=1 heavy_excess=0 H_excess=[] bond_miss=set() bond_excess={0, 1}\n",
      "\n",
      "No template matched for residue_key='A:404'\n",
      "tried 3 templates for residue_key='A:404'excess_H_ok=False\n",
      "ASN        heavy_miss=3 heavy_excess=0 H_excess=[] bond_miss={0} bond_excess=set()\n",
      "NASN       heavy_miss=3 heavy_excess=0 H_excess=[] bond_miss={0} bond_excess={4}\n",
      "CASN       heavy_miss=4 heavy_excess=0 H_excess=[] bond_miss=set() bond_excess=set()\n",
      "\n",
      "No template matched for residue_key='A:412'\n",
      "tried 3 templates for residue_key='A:412'excess_H_ok=False\n",
      "ARG        heavy_miss=6 heavy_excess=0 H_excess=[] bond_miss={4} bond_excess=set()\n",
      "NARG       heavy_miss=6 heavy_excess=0 H_excess=[] bond_miss=set() bond_excess=set()\n",
      "CARG       heavy_miss=7 heavy_excess=0 H_excess=[] bond_miss={5} bond_excess={1}\n",
      "\n",
      "- Template matching failed for: ['A:244', 'A:245', 'A:404', 'A:412'] Ignored due to allow_bad_res.\n",
      "2025-01-31 13:57:01,608 - INFO - Prepared enzyme PDBQT: vina_output_test/vina_prep_20250131_135658/ester/1BU8_chain_A/1BU8_altloc_removed_com.pdbqt\n",
      "[13:57:01] Warning: molecule is tagged as 2D, but at least one Z coordinate is not zero. Marking the mol as 3D.\n"
     ]
    },
    {
     "name": "stdout",
     "output_type": "stream",
     "text": [
      "\n",
      "Files written:\n",
      "vina_output_test/vina_prep_20250131_135658/ester/1BU8_chain_A/1BU8_altloc_removed_com.pdbqt <-- static (i.e., rigid) receptor input file\n",
      "Aligned ligand: vina_output_test/vina_prep_20250131_135658/ester/1BU8_chain_A/ester_aligned.sdf\n"
     ]
    },
    {
     "name": "stderr",
     "output_type": "stream",
     "text": [
      "2025-01-31 13:57:02,387 - INFO - \n",
      "Processing:\n",
      "PDB: ./data/enzyme/initial_clean_pdbs_chain_A_small/1AKN_chain_A/1AKN_altloc_removed.pdb\n",
      "SDF: ./data/ligand/sdf/ester.sdf\n",
      "Output: vina_output_test/vina_prep_20250131_135658/ester/1AKN_chain_A\n",
      "2025-01-31 13:57:02,389 - INFO - Loaded residue IDs from active_site.txt: ['S194', 'D320', 'H435']\n",
      "2025-01-31 13:57:02,428 - INFO - Shifted enzyme center of mass: vina_output_test/vina_prep_20250131_135658/ester/1AKN_chain_A/1AKN_altloc_removed_com.pdb\n",
      "2025-01-31 13:57:02,440 - INFO - Active site center found at: [5.726333  6.013     1.8989998]\n"
     ]
    },
    {
     "name": "stdout",
     "output_type": "stream",
     "text": [
      "Input molecules processed: 1, skipped: 0\n",
      "PDBQT files written: 1\n",
      "PDBQT files not written due to error: 0\n",
      "Input molecules with errors: 0\n",
      "Prepared ligand PDBQT: vina_output_test/vina_prep_20250131_135658/ester/1BU8_chain_A/ester_aligned.pdbqt\n"
     ]
    },
    {
     "name": "stderr",
     "output_type": "stream",
     "text": [
      "@> 4261 atoms and 1 coordinate set(s) were parsed in 0.01s.\n",
      "No template matched for residue_key='A:546'\n",
      "tried 3 templates for residue_key='A:546'excess_H_ok=False\n",
      "SER        heavy_miss=2 heavy_excess=0 H_excess=[] bond_miss=set() bond_excess=set()\n",
      "NSER       heavy_miss=2 heavy_excess=0 H_excess=[] bond_miss=set() bond_excess={4}\n",
      "CSER       heavy_miss=3 heavy_excess=0 H_excess=[] bond_miss=set() bond_excess={1}\n",
      "\n",
      "No template matched for residue_key='A:547'\n",
      "tried 3 templates for residue_key='A:547'excess_H_ok=False\n",
      "GLN        heavy_miss=5 heavy_excess=0 H_excess=[] bond_miss={0} bond_excess=set()\n",
      "NGLN       heavy_miss=5 heavy_excess=0 H_excess=[] bond_miss={0} bond_excess={4}\n",
      "CGLN       heavy_miss=6 heavy_excess=0 H_excess=[] bond_miss=set() bond_excess=set()\n",
      "\n",
      "- Template matching failed for: ['A:546', 'A:547'] Ignored due to allow_bad_res.\n",
      "2025-01-31 13:57:05,273 - INFO - Prepared enzyme PDBQT: vina_output_test/vina_prep_20250131_135658/ester/1AKN_chain_A/1AKN_altloc_removed_com.pdbqt\n",
      "[13:57:05] Warning: molecule is tagged as 2D, but at least one Z coordinate is not zero. Marking the mol as 3D.\n"
     ]
    },
    {
     "name": "stdout",
     "output_type": "stream",
     "text": [
      "\n",
      "Files written:\n",
      "vina_output_test/vina_prep_20250131_135658/ester/1AKN_chain_A/1AKN_altloc_removed_com.pdbqt <-- static (i.e., rigid) receptor input file\n",
      "Aligned ligand: vina_output_test/vina_prep_20250131_135658/ester/1AKN_chain_A/ester_aligned.sdf\n"
     ]
    },
    {
     "name": "stderr",
     "output_type": "stream",
     "text": [
      "2025-01-31 13:57:06,008 - INFO - \n",
      "Processing:\n",
      "PDB: ./data/enzyme/initial_clean_pdbs_chain_A_small/1CRL_chain_A/1CRL_altloc_removed.pdb\n",
      "SDF: ./data/ligand/sdf/ester.sdf\n",
      "Output: vina_output_test/vina_prep_20250131_135658/ester/1CRL_chain_A\n",
      "2025-01-31 13:57:06,011 - INFO - Loaded residue IDs from active_site.txt: ['S209', 'E341', 'H449']\n",
      "2025-01-31 13:57:06,047 - INFO - Shifted enzyme center of mass: vina_output_test/vina_prep_20250131_135658/ester/1CRL_chain_A/1CRL_altloc_removed_com.pdb\n",
      "2025-01-31 13:57:06,059 - INFO - Active site center found at: [-6.802     -4.2306666  4.7176666]\n"
     ]
    },
    {
     "name": "stdout",
     "output_type": "stream",
     "text": [
      "Input molecules processed: 1, skipped: 0\n",
      "PDBQT files written: 1\n",
      "PDBQT files not written due to error: 0\n",
      "Input molecules with errors: 0\n",
      "Prepared ligand PDBQT: vina_output_test/vina_prep_20250131_135658/ester/1AKN_chain_A/ester_aligned.pdbqt\n"
     ]
    },
    {
     "name": "stderr",
     "output_type": "stream",
     "text": [
      "@> 4022 atoms and 1 coordinate set(s) were parsed in 0.01s.\n",
      "2025-01-31 13:57:08,789 - INFO - Prepared enzyme PDBQT: vina_output_test/vina_prep_20250131_135658/ester/1CRL_chain_A/1CRL_altloc_removed_com.pdbqt\n"
     ]
    },
    {
     "name": "stdout",
     "output_type": "stream",
     "text": [
      "\n",
      "Files written:\n",
      "vina_output_test/vina_prep_20250131_135658/ester/1CRL_chain_A/1CRL_altloc_removed_com.pdbqt <-- static (i.e., rigid) receptor input file\n",
      "Aligned ligand: vina_output_test/vina_prep_20250131_135658/ester/1CRL_chain_A/ester_aligned.sdf\n"
     ]
    },
    {
     "name": "stderr",
     "output_type": "stream",
     "text": [
      "[13:57:08] Warning: molecule is tagged as 2D, but at least one Z coordinate is not zero. Marking the mol as 3D.\n",
      "2025-01-31 13:57:09,568 - INFO - \n",
      "Processing:\n",
      "PDB: ./data/enzyme/initial_clean_pdbs_chain_A_small/1AQL_chain_A/1AQL_altloc_removed.pdb\n",
      "SDF: ./data/ligand/sdf/ester.sdf\n",
      "Output: vina_output_test/vina_prep_20250131_135658/ester/1AQL_chain_A\n",
      "2025-01-31 13:57:09,570 - INFO - Loaded residue IDs from active_site.txt: ['S194', 'D320', 'H435']\n",
      "2025-01-31 13:57:09,607 - INFO - Shifted enzyme center of mass: vina_output_test/vina_prep_20250131_135658/ester/1AQL_chain_A/1AQL_altloc_removed_com.pdb\n",
      "2025-01-31 13:57:09,620 - INFO - Active site center found at: [3.1289997 6.297667  4.645    ]\n"
     ]
    },
    {
     "name": "stdout",
     "output_type": "stream",
     "text": [
      "Input molecules processed: 1, skipped: 0\n",
      "PDBQT files written: 1\n",
      "PDBQT files not written due to error: 0\n",
      "Input molecules with errors: 0\n",
      "Prepared ligand PDBQT: vina_output_test/vina_prep_20250131_135658/ester/1CRL_chain_A/ester_aligned.pdbqt\n"
     ]
    },
    {
     "name": "stderr",
     "output_type": "stream",
     "text": [
      "@> 4165 atoms and 1 coordinate set(s) were parsed in 0.01s.\n",
      "2025-01-31 13:57:12,429 - INFO - Prepared enzyme PDBQT: vina_output_test/vina_prep_20250131_135658/ester/1AQL_chain_A/1AQL_altloc_removed_com.pdbqt\n"
     ]
    },
    {
     "name": "stdout",
     "output_type": "stream",
     "text": [
      "\n",
      "Files written:\n",
      "vina_output_test/vina_prep_20250131_135658/ester/1AQL_chain_A/1AQL_altloc_removed_com.pdbqt <-- static (i.e., rigid) receptor input file\n",
      "Aligned ligand: vina_output_test/vina_prep_20250131_135658/ester/1AQL_chain_A/ester_aligned.sdf\n"
     ]
    },
    {
     "name": "stderr",
     "output_type": "stream",
     "text": [
      "[13:57:12] Warning: molecule is tagged as 2D, but at least one Z coordinate is not zero. Marking the mol as 3D.\n",
      "2025-01-31 13:57:13,168 - INFO - \n",
      "Processing:\n",
      "PDB: ./data/enzyme/initial_clean_pdbs_chain_A_small/1CLE_chain_A/1CLE_altloc_removed.pdb\n",
      "SDF: ./data/ligand/sdf/ester.sdf\n",
      "Output: vina_output_test/vina_prep_20250131_135658/ester/1CLE_chain_A\n",
      "2025-01-31 13:57:13,171 - INFO - Loaded residue IDs from active_site.txt: ['S209', 'E341', 'H449']\n",
      "2025-01-31 13:57:13,206 - INFO - Shifted enzyme center of mass: vina_output_test/vina_prep_20250131_135658/ester/1CLE_chain_A/1CLE_altloc_removed_com.pdb\n",
      "2025-01-31 13:57:13,218 - INFO - Active site center found at: [-7.3563333  5.261667  -2.234    ]\n"
     ]
    },
    {
     "name": "stdout",
     "output_type": "stream",
     "text": [
      "Input molecules processed: 1, skipped: 0\n",
      "PDBQT files written: 1\n",
      "PDBQT files not written due to error: 0\n",
      "Input molecules with errors: 0\n",
      "Prepared ligand PDBQT: vina_output_test/vina_prep_20250131_135658/ester/1AQL_chain_A/ester_aligned.pdbqt\n"
     ]
    },
    {
     "name": "stderr",
     "output_type": "stream",
     "text": [
      "@> 4036 atoms and 1 coordinate set(s) were parsed in 0.01s.\n",
      "2025-01-31 13:57:15,931 - INFO - Prepared enzyme PDBQT: vina_output_test/vina_prep_20250131_135658/ester/1CLE_chain_A/1CLE_altloc_removed_com.pdbqt\n"
     ]
    },
    {
     "name": "stdout",
     "output_type": "stream",
     "text": [
      "\n",
      "Files written:\n",
      "vina_output_test/vina_prep_20250131_135658/ester/1CLE_chain_A/1CLE_altloc_removed_com.pdbqt <-- static (i.e., rigid) receptor input file\n",
      "Aligned ligand: vina_output_test/vina_prep_20250131_135658/ester/1CLE_chain_A/ester_aligned.sdf\n"
     ]
    },
    {
     "name": "stderr",
     "output_type": "stream",
     "text": [
      "[13:57:15] Warning: molecule is tagged as 2D, but at least one Z coordinate is not zero. Marking the mol as 3D.\n",
      "2025-01-31 13:57:16,698 - INFO - \n",
      "Processing:\n",
      "PDB: ./data/enzyme/initial_clean_pdbs_chain_A_small/1BU8_chain_A/1BU8_altloc_removed.pdb\n",
      "SDF: ./data/ligand/sdf/triacylglycerol.sdf\n",
      "Output: vina_output_test/vina_prep_20250131_135658/triacylglycerol/1BU8_chain_A\n",
      "2025-01-31 13:57:16,700 - INFO - Loaded residue IDs from active_site.txt: ['S152', 'D176', 'H263']\n",
      "2025-01-31 13:57:16,729 - INFO - Shifted enzyme center of mass: vina_output_test/vina_prep_20250131_135658/triacylglycerol/1BU8_chain_A/1BU8_altloc_removed_com.pdb\n",
      "2025-01-31 13:57:16,739 - INFO - Active site center found at: [-2.7713335  3.6096668 -8.041    ]\n"
     ]
    },
    {
     "name": "stdout",
     "output_type": "stream",
     "text": [
      "Input molecules processed: 1, skipped: 0\n",
      "PDBQT files written: 1\n",
      "PDBQT files not written due to error: 0\n",
      "Input molecules with errors: 0\n",
      "Prepared ligand PDBQT: vina_output_test/vina_prep_20250131_135658/ester/1CLE_chain_A/ester_aligned.pdbqt\n"
     ]
    },
    {
     "name": "stderr",
     "output_type": "stream",
     "text": [
      "@> 3518 atoms and 1 coordinate set(s) were parsed in 0.01s.\n",
      "No template matched for residue_key='A:244'\n",
      "tried 3 templates for residue_key='A:244'excess_H_ok=False\n",
      "THR        heavy_miss=2 heavy_excess=0 H_excess=[] bond_miss=set() bond_excess={1}\n",
      "NTHR       heavy_miss=2 heavy_excess=0 H_excess=[] bond_miss=set() bond_excess={1, 4}\n",
      "CTHR       heavy_miss=3 heavy_excess=0 H_excess=[] bond_miss=set() bond_excess={0, 1}\n",
      "\n",
      "No template matched for residue_key='A:245'\n",
      "tried 3 templates for residue_key='A:245'excess_H_ok=False\n",
      "ILE        heavy_miss=0 heavy_excess=0 H_excess=[] bond_miss=set() bond_excess={1}\n",
      "NILE       heavy_miss=0 heavy_excess=0 H_excess=[] bond_miss=set() bond_excess={1, 4}\n",
      "CILE       heavy_miss=1 heavy_excess=0 H_excess=[] bond_miss=set() bond_excess={0, 1}\n",
      "\n",
      "No template matched for residue_key='A:404'\n",
      "tried 3 templates for residue_key='A:404'excess_H_ok=False\n",
      "ASN        heavy_miss=3 heavy_excess=0 H_excess=[] bond_miss={0} bond_excess=set()\n",
      "NASN       heavy_miss=3 heavy_excess=0 H_excess=[] bond_miss={0} bond_excess={4}\n",
      "CASN       heavy_miss=4 heavy_excess=0 H_excess=[] bond_miss=set() bond_excess=set()\n",
      "\n",
      "No template matched for residue_key='A:412'\n",
      "tried 3 templates for residue_key='A:412'excess_H_ok=False\n",
      "ARG        heavy_miss=6 heavy_excess=0 H_excess=[] bond_miss={4} bond_excess=set()\n",
      "NARG       heavy_miss=6 heavy_excess=0 H_excess=[] bond_miss=set() bond_excess=set()\n",
      "CARG       heavy_miss=7 heavy_excess=0 H_excess=[] bond_miss={5} bond_excess={1}\n",
      "\n",
      "- Template matching failed for: ['A:244', 'A:245', 'A:404', 'A:412'] Ignored due to allow_bad_res.\n",
      "2025-01-31 13:57:19,113 - INFO - Prepared enzyme PDBQT: vina_output_test/vina_prep_20250131_135658/triacylglycerol/1BU8_chain_A/1BU8_altloc_removed_com.pdbqt\n"
     ]
    },
    {
     "name": "stdout",
     "output_type": "stream",
     "text": [
      "\n",
      "Files written:\n",
      "vina_output_test/vina_prep_20250131_135658/triacylglycerol/1BU8_chain_A/1BU8_altloc_removed_com.pdbqt <-- static (i.e., rigid) receptor input file\n",
      "Aligned ligand: vina_output_test/vina_prep_20250131_135658/triacylglycerol/1BU8_chain_A/triacylglycerol_aligned.sdf\n"
     ]
    },
    {
     "name": "stderr",
     "output_type": "stream",
     "text": [
      "2025-01-31 13:57:19,881 - INFO - \n",
      "Processing:\n",
      "PDB: ./data/enzyme/initial_clean_pdbs_chain_A_small/1AKN_chain_A/1AKN_altloc_removed.pdb\n",
      "SDF: ./data/ligand/sdf/triacylglycerol.sdf\n",
      "Output: vina_output_test/vina_prep_20250131_135658/triacylglycerol/1AKN_chain_A\n",
      "2025-01-31 13:57:19,882 - INFO - Loaded residue IDs from active_site.txt: ['S194', 'D320', 'H435']\n",
      "2025-01-31 13:57:19,922 - INFO - Shifted enzyme center of mass: vina_output_test/vina_prep_20250131_135658/triacylglycerol/1AKN_chain_A/1AKN_altloc_removed_com.pdb\n"
     ]
    },
    {
     "name": "stdout",
     "output_type": "stream",
     "text": [
      "Input molecules processed: 1, skipped: 0\n",
      "PDBQT files written: 1\n",
      "PDBQT files not written due to error: 0\n",
      "Input molecules with errors: 0\n",
      "Prepared ligand PDBQT: vina_output_test/vina_prep_20250131_135658/triacylglycerol/1BU8_chain_A/triacylglycerol_aligned.pdbqt\n"
     ]
    },
    {
     "name": "stderr",
     "output_type": "stream",
     "text": [
      "2025-01-31 13:57:20,057 - INFO - Active site center found at: [5.726333  6.013     1.8989998]\n",
      "@> 4261 atoms and 1 coordinate set(s) were parsed in 0.03s.\n",
      "No template matched for residue_key='A:546'\n",
      "tried 3 templates for residue_key='A:546'excess_H_ok=False\n",
      "SER        heavy_miss=2 heavy_excess=0 H_excess=[] bond_miss=set() bond_excess=set()\n",
      "NSER       heavy_miss=2 heavy_excess=0 H_excess=[] bond_miss=set() bond_excess={4}\n",
      "CSER       heavy_miss=3 heavy_excess=0 H_excess=[] bond_miss=set() bond_excess={1}\n",
      "\n",
      "No template matched for residue_key='A:547'\n",
      "tried 3 templates for residue_key='A:547'excess_H_ok=False\n",
      "GLN        heavy_miss=5 heavy_excess=0 H_excess=[] bond_miss={0} bond_excess=set()\n",
      "NGLN       heavy_miss=5 heavy_excess=0 H_excess=[] bond_miss={0} bond_excess={4}\n",
      "CGLN       heavy_miss=6 heavy_excess=0 H_excess=[] bond_miss=set() bond_excess=set()\n",
      "\n",
      "- Template matching failed for: ['A:546', 'A:547'] Ignored due to allow_bad_res.\n",
      "2025-01-31 13:57:22,915 - INFO - Prepared enzyme PDBQT: vina_output_test/vina_prep_20250131_135658/triacylglycerol/1AKN_chain_A/1AKN_altloc_removed_com.pdbqt\n"
     ]
    },
    {
     "name": "stdout",
     "output_type": "stream",
     "text": [
      "\n",
      "Files written:\n",
      "vina_output_test/vina_prep_20250131_135658/triacylglycerol/1AKN_chain_A/1AKN_altloc_removed_com.pdbqt <-- static (i.e., rigid) receptor input file\n",
      "Aligned ligand: vina_output_test/vina_prep_20250131_135658/triacylglycerol/1AKN_chain_A/triacylglycerol_aligned.sdf\n"
     ]
    },
    {
     "name": "stderr",
     "output_type": "stream",
     "text": [
      "2025-01-31 13:57:23,682 - INFO - \n",
      "Processing:\n",
      "PDB: ./data/enzyme/initial_clean_pdbs_chain_A_small/1CRL_chain_A/1CRL_altloc_removed.pdb\n",
      "SDF: ./data/ligand/sdf/triacylglycerol.sdf\n",
      "Output: vina_output_test/vina_prep_20250131_135658/triacylglycerol/1CRL_chain_A\n",
      "2025-01-31 13:57:23,684 - INFO - Loaded residue IDs from active_site.txt: ['S209', 'E341', 'H449']\n",
      "2025-01-31 13:57:23,720 - INFO - Shifted enzyme center of mass: vina_output_test/vina_prep_20250131_135658/triacylglycerol/1CRL_chain_A/1CRL_altloc_removed_com.pdb\n",
      "2025-01-31 13:57:23,732 - INFO - Active site center found at: [-6.802     -4.2306666  4.7176666]\n"
     ]
    },
    {
     "name": "stdout",
     "output_type": "stream",
     "text": [
      "Input molecules processed: 1, skipped: 0\n",
      "PDBQT files written: 1\n",
      "PDBQT files not written due to error: 0\n",
      "Input molecules with errors: 0\n",
      "Prepared ligand PDBQT: vina_output_test/vina_prep_20250131_135658/triacylglycerol/1AKN_chain_A/triacylglycerol_aligned.pdbqt\n"
     ]
    },
    {
     "name": "stderr",
     "output_type": "stream",
     "text": [
      "@> 4022 atoms and 1 coordinate set(s) were parsed in 0.01s.\n",
      "2025-01-31 13:57:26,486 - INFO - Prepared enzyme PDBQT: vina_output_test/vina_prep_20250131_135658/triacylglycerol/1CRL_chain_A/1CRL_altloc_removed_com.pdbqt\n"
     ]
    },
    {
     "name": "stdout",
     "output_type": "stream",
     "text": [
      "\n",
      "Files written:\n",
      "vina_output_test/vina_prep_20250131_135658/triacylglycerol/1CRL_chain_A/1CRL_altloc_removed_com.pdbqt <-- static (i.e., rigid) receptor input file\n",
      "Aligned ligand: vina_output_test/vina_prep_20250131_135658/triacylglycerol/1CRL_chain_A/triacylglycerol_aligned.sdf\n"
     ]
    },
    {
     "name": "stderr",
     "output_type": "stream",
     "text": [
      "2025-01-31 13:57:27,252 - INFO - \n",
      "Processing:\n",
      "PDB: ./data/enzyme/initial_clean_pdbs_chain_A_small/1AQL_chain_A/1AQL_altloc_removed.pdb\n",
      "SDF: ./data/ligand/sdf/triacylglycerol.sdf\n",
      "Output: vina_output_test/vina_prep_20250131_135658/triacylglycerol/1AQL_chain_A\n",
      "2025-01-31 13:57:27,254 - INFO - Loaded residue IDs from active_site.txt: ['S194', 'D320', 'H435']\n",
      "2025-01-31 13:57:27,292 - INFO - Shifted enzyme center of mass: vina_output_test/vina_prep_20250131_135658/triacylglycerol/1AQL_chain_A/1AQL_altloc_removed_com.pdb\n",
      "2025-01-31 13:57:27,305 - INFO - Active site center found at: [3.1289997 6.297667  4.645    ]\n"
     ]
    },
    {
     "name": "stdout",
     "output_type": "stream",
     "text": [
      "Input molecules processed: 1, skipped: 0\n",
      "PDBQT files written: 1\n",
      "PDBQT files not written due to error: 0\n",
      "Input molecules with errors: 0\n",
      "Prepared ligand PDBQT: vina_output_test/vina_prep_20250131_135658/triacylglycerol/1CRL_chain_A/triacylglycerol_aligned.pdbqt\n"
     ]
    },
    {
     "name": "stderr",
     "output_type": "stream",
     "text": [
      "@> 4165 atoms and 1 coordinate set(s) were parsed in 0.01s.\n",
      "2025-01-31 13:57:30,085 - INFO - Prepared enzyme PDBQT: vina_output_test/vina_prep_20250131_135658/triacylglycerol/1AQL_chain_A/1AQL_altloc_removed_com.pdbqt\n"
     ]
    },
    {
     "name": "stdout",
     "output_type": "stream",
     "text": [
      "\n",
      "Files written:\n",
      "vina_output_test/vina_prep_20250131_135658/triacylglycerol/1AQL_chain_A/1AQL_altloc_removed_com.pdbqt <-- static (i.e., rigid) receptor input file\n",
      "Aligned ligand: vina_output_test/vina_prep_20250131_135658/triacylglycerol/1AQL_chain_A/triacylglycerol_aligned.sdf\n"
     ]
    },
    {
     "name": "stderr",
     "output_type": "stream",
     "text": [
      "2025-01-31 13:57:30,908 - INFO - \n",
      "Processing:\n",
      "PDB: ./data/enzyme/initial_clean_pdbs_chain_A_small/1CLE_chain_A/1CLE_altloc_removed.pdb\n",
      "SDF: ./data/ligand/sdf/triacylglycerol.sdf\n",
      "Output: vina_output_test/vina_prep_20250131_135658/triacylglycerol/1CLE_chain_A\n",
      "2025-01-31 13:57:30,911 - INFO - Loaded residue IDs from active_site.txt: ['S209', 'E341', 'H449']\n",
      "2025-01-31 13:57:30,947 - INFO - Shifted enzyme center of mass: vina_output_test/vina_prep_20250131_135658/triacylglycerol/1CLE_chain_A/1CLE_altloc_removed_com.pdb\n",
      "2025-01-31 13:57:30,959 - INFO - Active site center found at: [-7.3563333  5.261667  -2.234    ]\n"
     ]
    },
    {
     "name": "stdout",
     "output_type": "stream",
     "text": [
      "Input molecules processed: 1, skipped: 0\n",
      "PDBQT files written: 1\n",
      "PDBQT files not written due to error: 0\n",
      "Input molecules with errors: 0\n",
      "Prepared ligand PDBQT: vina_output_test/vina_prep_20250131_135658/triacylglycerol/1AQL_chain_A/triacylglycerol_aligned.pdbqt\n"
     ]
    },
    {
     "name": "stderr",
     "output_type": "stream",
     "text": [
      "@> 4036 atoms and 1 coordinate set(s) were parsed in 0.01s.\n",
      "2025-01-31 13:57:33,732 - INFO - Prepared enzyme PDBQT: vina_output_test/vina_prep_20250131_135658/triacylglycerol/1CLE_chain_A/1CLE_altloc_removed_com.pdbqt\n"
     ]
    },
    {
     "name": "stdout",
     "output_type": "stream",
     "text": [
      "\n",
      "Files written:\n",
      "vina_output_test/vina_prep_20250131_135658/triacylglycerol/1CLE_chain_A/1CLE_altloc_removed_com.pdbqt <-- static (i.e., rigid) receptor input file\n",
      "Aligned ligand: vina_output_test/vina_prep_20250131_135658/triacylglycerol/1CLE_chain_A/triacylglycerol_aligned.sdf\n"
     ]
    },
    {
     "name": "stderr",
     "output_type": "stream",
     "text": [
      "2025-01-31 13:57:34,487 - INFO - \n",
      "Processing:\n",
      "PDB: ./data/enzyme/initial_clean_pdbs_chain_A_small/1BU8_chain_A/1BU8_altloc_removed.pdb\n",
      "SDF: ./data/ligand/sdf/diacylglycerol.sdf\n",
      "Output: vina_output_test/vina_prep_20250131_135658/diacylglycerol/1BU8_chain_A\n",
      "2025-01-31 13:57:34,489 - INFO - Loaded residue IDs from active_site.txt: ['S152', 'D176', 'H263']\n",
      "2025-01-31 13:57:34,520 - INFO - Shifted enzyme center of mass: vina_output_test/vina_prep_20250131_135658/diacylglycerol/1BU8_chain_A/1BU8_altloc_removed_com.pdb\n",
      "2025-01-31 13:57:34,530 - INFO - Active site center found at: [-2.7713335  3.6096668 -8.041    ]\n"
     ]
    },
    {
     "name": "stdout",
     "output_type": "stream",
     "text": [
      "Input molecules processed: 1, skipped: 0\n",
      "PDBQT files written: 1\n",
      "PDBQT files not written due to error: 0\n",
      "Input molecules with errors: 0\n",
      "Prepared ligand PDBQT: vina_output_test/vina_prep_20250131_135658/triacylglycerol/1CLE_chain_A/triacylglycerol_aligned.pdbqt\n"
     ]
    },
    {
     "name": "stderr",
     "output_type": "stream",
     "text": [
      "@> 3518 atoms and 1 coordinate set(s) were parsed in 0.01s.\n",
      "No template matched for residue_key='A:244'\n",
      "tried 3 templates for residue_key='A:244'excess_H_ok=False\n",
      "THR        heavy_miss=2 heavy_excess=0 H_excess=[] bond_miss=set() bond_excess={1}\n",
      "NTHR       heavy_miss=2 heavy_excess=0 H_excess=[] bond_miss=set() bond_excess={1, 4}\n",
      "CTHR       heavy_miss=3 heavy_excess=0 H_excess=[] bond_miss=set() bond_excess={0, 1}\n",
      "\n",
      "No template matched for residue_key='A:245'\n",
      "tried 3 templates for residue_key='A:245'excess_H_ok=False\n",
      "ILE        heavy_miss=0 heavy_excess=0 H_excess=[] bond_miss=set() bond_excess={1}\n",
      "NILE       heavy_miss=0 heavy_excess=0 H_excess=[] bond_miss=set() bond_excess={1, 4}\n",
      "CILE       heavy_miss=1 heavy_excess=0 H_excess=[] bond_miss=set() bond_excess={0, 1}\n",
      "\n",
      "No template matched for residue_key='A:404'\n",
      "tried 3 templates for residue_key='A:404'excess_H_ok=False\n",
      "ASN        heavy_miss=3 heavy_excess=0 H_excess=[] bond_miss={0} bond_excess=set()\n",
      "NASN       heavy_miss=3 heavy_excess=0 H_excess=[] bond_miss={0} bond_excess={4}\n",
      "CASN       heavy_miss=4 heavy_excess=0 H_excess=[] bond_miss=set() bond_excess=set()\n",
      "\n",
      "No template matched for residue_key='A:412'\n",
      "tried 3 templates for residue_key='A:412'excess_H_ok=False\n",
      "ARG        heavy_miss=6 heavy_excess=0 H_excess=[] bond_miss={4} bond_excess=set()\n",
      "NARG       heavy_miss=6 heavy_excess=0 H_excess=[] bond_miss=set() bond_excess=set()\n",
      "CARG       heavy_miss=7 heavy_excess=0 H_excess=[] bond_miss={5} bond_excess={1}\n",
      "\n",
      "- Template matching failed for: ['A:244', 'A:245', 'A:404', 'A:412'] Ignored due to allow_bad_res.\n",
      "2025-01-31 13:57:36,947 - INFO - Prepared enzyme PDBQT: vina_output_test/vina_prep_20250131_135658/diacylglycerol/1BU8_chain_A/1BU8_altloc_removed_com.pdbqt\n",
      "[13:57:36] Warning: molecule is tagged as 2D, but at least one Z coordinate is not zero. Marking the mol as 3D.\n"
     ]
    },
    {
     "name": "stdout",
     "output_type": "stream",
     "text": [
      "\n",
      "Files written:\n",
      "vina_output_test/vina_prep_20250131_135658/diacylglycerol/1BU8_chain_A/1BU8_altloc_removed_com.pdbqt <-- static (i.e., rigid) receptor input file\n",
      "Aligned ligand: vina_output_test/vina_prep_20250131_135658/diacylglycerol/1BU8_chain_A/diacylglycerol_aligned.sdf\n"
     ]
    },
    {
     "name": "stderr",
     "output_type": "stream",
     "text": [
      "2025-01-31 13:57:37,732 - INFO - \n",
      "Processing:\n",
      "PDB: ./data/enzyme/initial_clean_pdbs_chain_A_small/1AKN_chain_A/1AKN_altloc_removed.pdb\n",
      "SDF: ./data/ligand/sdf/diacylglycerol.sdf\n",
      "Output: vina_output_test/vina_prep_20250131_135658/diacylglycerol/1AKN_chain_A\n",
      "2025-01-31 13:57:37,735 - INFO - Loaded residue IDs from active_site.txt: ['S194', 'D320', 'H435']\n",
      "2025-01-31 13:57:37,775 - INFO - Shifted enzyme center of mass: vina_output_test/vina_prep_20250131_135658/diacylglycerol/1AKN_chain_A/1AKN_altloc_removed_com.pdb\n",
      "2025-01-31 13:57:37,787 - INFO - Active site center found at: [5.726333  6.013     1.8989998]\n"
     ]
    },
    {
     "name": "stdout",
     "output_type": "stream",
     "text": [
      "Input molecules processed: 1, skipped: 0\n",
      "PDBQT files written: 1\n",
      "PDBQT files not written due to error: 0\n",
      "Input molecules with errors: 0\n",
      "Prepared ligand PDBQT: vina_output_test/vina_prep_20250131_135658/diacylglycerol/1BU8_chain_A/diacylglycerol_aligned.pdbqt\n"
     ]
    },
    {
     "name": "stderr",
     "output_type": "stream",
     "text": [
      "@> 4261 atoms and 1 coordinate set(s) were parsed in 0.01s.\n",
      "No template matched for residue_key='A:546'\n",
      "tried 3 templates for residue_key='A:546'excess_H_ok=False\n",
      "SER        heavy_miss=2 heavy_excess=0 H_excess=[] bond_miss=set() bond_excess=set()\n",
      "NSER       heavy_miss=2 heavy_excess=0 H_excess=[] bond_miss=set() bond_excess={4}\n",
      "CSER       heavy_miss=3 heavy_excess=0 H_excess=[] bond_miss=set() bond_excess={1}\n",
      "\n",
      "No template matched for residue_key='A:547'\n",
      "tried 3 templates for residue_key='A:547'excess_H_ok=False\n",
      "GLN        heavy_miss=5 heavy_excess=0 H_excess=[] bond_miss={0} bond_excess=set()\n",
      "NGLN       heavy_miss=5 heavy_excess=0 H_excess=[] bond_miss={0} bond_excess={4}\n",
      "CGLN       heavy_miss=6 heavy_excess=0 H_excess=[] bond_miss=set() bond_excess=set()\n",
      "\n",
      "- Template matching failed for: ['A:546', 'A:547'] Ignored due to allow_bad_res.\n",
      "2025-01-31 13:57:40,662 - INFO - Prepared enzyme PDBQT: vina_output_test/vina_prep_20250131_135658/diacylglycerol/1AKN_chain_A/1AKN_altloc_removed_com.pdbqt\n",
      "[13:57:40] Warning: molecule is tagged as 2D, but at least one Z coordinate is not zero. Marking the mol as 3D.\n"
     ]
    },
    {
     "name": "stdout",
     "output_type": "stream",
     "text": [
      "\n",
      "Files written:\n",
      "vina_output_test/vina_prep_20250131_135658/diacylglycerol/1AKN_chain_A/1AKN_altloc_removed_com.pdbqt <-- static (i.e., rigid) receptor input file\n",
      "Aligned ligand: vina_output_test/vina_prep_20250131_135658/diacylglycerol/1AKN_chain_A/diacylglycerol_aligned.sdf\n"
     ]
    },
    {
     "name": "stderr",
     "output_type": "stream",
     "text": [
      "2025-01-31 13:57:41,461 - INFO - \n",
      "Processing:\n",
      "PDB: ./data/enzyme/initial_clean_pdbs_chain_A_small/1CRL_chain_A/1CRL_altloc_removed.pdb\n",
      "SDF: ./data/ligand/sdf/diacylglycerol.sdf\n",
      "Output: vina_output_test/vina_prep_20250131_135658/diacylglycerol/1CRL_chain_A\n",
      "2025-01-31 13:57:41,463 - INFO - Loaded residue IDs from active_site.txt: ['S209', 'E341', 'H449']\n",
      "2025-01-31 13:57:41,500 - INFO - Shifted enzyme center of mass: vina_output_test/vina_prep_20250131_135658/diacylglycerol/1CRL_chain_A/1CRL_altloc_removed_com.pdb\n",
      "2025-01-31 13:57:41,512 - INFO - Active site center found at: [-6.802     -4.2306666  4.7176666]\n"
     ]
    },
    {
     "name": "stdout",
     "output_type": "stream",
     "text": [
      "Input molecules processed: 1, skipped: 0\n",
      "PDBQT files written: 1\n",
      "PDBQT files not written due to error: 0\n",
      "Input molecules with errors: 0\n",
      "Prepared ligand PDBQT: vina_output_test/vina_prep_20250131_135658/diacylglycerol/1AKN_chain_A/diacylglycerol_aligned.pdbqt\n"
     ]
    },
    {
     "name": "stderr",
     "output_type": "stream",
     "text": [
      "@> 4022 atoms and 1 coordinate set(s) were parsed in 0.01s.\n",
      "2025-01-31 13:57:44,323 - INFO - Prepared enzyme PDBQT: vina_output_test/vina_prep_20250131_135658/diacylglycerol/1CRL_chain_A/1CRL_altloc_removed_com.pdbqt\n"
     ]
    },
    {
     "name": "stdout",
     "output_type": "stream",
     "text": [
      "\n",
      "Files written:\n",
      "vina_output_test/vina_prep_20250131_135658/diacylglycerol/1CRL_chain_A/1CRL_altloc_removed_com.pdbqt <-- static (i.e., rigid) receptor input file\n",
      "Aligned ligand: vina_output_test/vina_prep_20250131_135658/diacylglycerol/1CRL_chain_A/diacylglycerol_aligned.sdf\n"
     ]
    },
    {
     "name": "stderr",
     "output_type": "stream",
     "text": [
      "[13:57:44] Warning: molecule is tagged as 2D, but at least one Z coordinate is not zero. Marking the mol as 3D.\n",
      "2025-01-31 13:57:45,108 - INFO - \n",
      "Processing:\n",
      "PDB: ./data/enzyme/initial_clean_pdbs_chain_A_small/1AQL_chain_A/1AQL_altloc_removed.pdb\n",
      "SDF: ./data/ligand/sdf/diacylglycerol.sdf\n",
      "Output: vina_output_test/vina_prep_20250131_135658/diacylglycerol/1AQL_chain_A\n",
      "2025-01-31 13:57:45,110 - INFO - Loaded residue IDs from active_site.txt: ['S194', 'D320', 'H435']\n",
      "2025-01-31 13:57:45,148 - INFO - Shifted enzyme center of mass: vina_output_test/vina_prep_20250131_135658/diacylglycerol/1AQL_chain_A/1AQL_altloc_removed_com.pdb\n",
      "2025-01-31 13:57:45,160 - INFO - Active site center found at: [3.1289997 6.297667  4.645    ]\n"
     ]
    },
    {
     "name": "stdout",
     "output_type": "stream",
     "text": [
      "Input molecules processed: 1, skipped: 0\n",
      "PDBQT files written: 1\n",
      "PDBQT files not written due to error: 0\n",
      "Input molecules with errors: 0\n",
      "Prepared ligand PDBQT: vina_output_test/vina_prep_20250131_135658/diacylglycerol/1CRL_chain_A/diacylglycerol_aligned.pdbqt\n"
     ]
    },
    {
     "name": "stderr",
     "output_type": "stream",
     "text": [
      "@> 4165 atoms and 1 coordinate set(s) were parsed in 0.01s.\n",
      "2025-01-31 13:57:48,056 - INFO - Prepared enzyme PDBQT: vina_output_test/vina_prep_20250131_135658/diacylglycerol/1AQL_chain_A/1AQL_altloc_removed_com.pdbqt\n"
     ]
    },
    {
     "name": "stdout",
     "output_type": "stream",
     "text": [
      "\n",
      "Files written:\n",
      "vina_output_test/vina_prep_20250131_135658/diacylglycerol/1AQL_chain_A/1AQL_altloc_removed_com.pdbqt <-- static (i.e., rigid) receptor input file\n",
      "Aligned ligand: vina_output_test/vina_prep_20250131_135658/diacylglycerol/1AQL_chain_A/diacylglycerol_aligned.sdf\n"
     ]
    },
    {
     "name": "stderr",
     "output_type": "stream",
     "text": [
      "[13:57:48] Warning: molecule is tagged as 2D, but at least one Z coordinate is not zero. Marking the mol as 3D.\n",
      "2025-01-31 13:57:48,838 - INFO - \n",
      "Processing:\n",
      "PDB: ./data/enzyme/initial_clean_pdbs_chain_A_small/1CLE_chain_A/1CLE_altloc_removed.pdb\n",
      "SDF: ./data/ligand/sdf/diacylglycerol.sdf\n",
      "Output: vina_output_test/vina_prep_20250131_135658/diacylglycerol/1CLE_chain_A\n",
      "2025-01-31 13:57:48,841 - INFO - Loaded residue IDs from active_site.txt: ['S209', 'E341', 'H449']\n",
      "2025-01-31 13:57:48,878 - INFO - Shifted enzyme center of mass: vina_output_test/vina_prep_20250131_135658/diacylglycerol/1CLE_chain_A/1CLE_altloc_removed_com.pdb\n",
      "2025-01-31 13:57:48,890 - INFO - Active site center found at: [-7.3563333  5.261667  -2.234    ]\n"
     ]
    },
    {
     "name": "stdout",
     "output_type": "stream",
     "text": [
      "Input molecules processed: 1, skipped: 0\n",
      "PDBQT files written: 1\n",
      "PDBQT files not written due to error: 0\n",
      "Input molecules with errors: 0\n",
      "Prepared ligand PDBQT: vina_output_test/vina_prep_20250131_135658/diacylglycerol/1AQL_chain_A/diacylglycerol_aligned.pdbqt\n"
     ]
    },
    {
     "name": "stderr",
     "output_type": "stream",
     "text": [
      "@> 4036 atoms and 1 coordinate set(s) were parsed in 0.01s.\n",
      "2025-01-31 13:57:51,677 - INFO - Prepared enzyme PDBQT: vina_output_test/vina_prep_20250131_135658/diacylglycerol/1CLE_chain_A/1CLE_altloc_removed_com.pdbqt\n"
     ]
    },
    {
     "name": "stdout",
     "output_type": "stream",
     "text": [
      "\n",
      "Files written:\n",
      "vina_output_test/vina_prep_20250131_135658/diacylglycerol/1CLE_chain_A/1CLE_altloc_removed_com.pdbqt <-- static (i.e., rigid) receptor input file\n",
      "Aligned ligand: vina_output_test/vina_prep_20250131_135658/diacylglycerol/1CLE_chain_A/diacylglycerol_aligned.sdf\n"
     ]
    },
    {
     "name": "stderr",
     "output_type": "stream",
     "text": [
      "[13:57:51] Warning: molecule is tagged as 2D, but at least one Z coordinate is not zero. Marking the mol as 3D.\n"
     ]
    },
    {
     "name": "stdout",
     "output_type": "stream",
     "text": [
      "Input molecules processed: 1, skipped: 0\n",
      "PDBQT files written: 1\n",
      "PDBQT files not written due to error: 0\n",
      "Input molecules with errors: 0\n",
      "Prepared ligand PDBQT: vina_output_test/vina_prep_20250131_135658/diacylglycerol/1CLE_chain_A/diacylglycerol_aligned.pdbqt\n"
     ]
    }
   ],
   "source": [
    "# Run for all data\n",
    "from src.applications.autodock.utils import  prepare_vina_files\n",
    "\n",
    "prep_info = prepare_vina_files(\n",
    "        pdb_dir=\"./data/enzyme/initial_clean_pdbs_chain_A_small\",\n",
    "        sdf_dir=\"./data/ligand/sdf\",\n",
    "        base_output_dir=\"./vina_output_test\"\n",
    "    )"
   ]
  },
  {
   "cell_type": "code",
   "execution_count": null,
   "metadata": {},
   "outputs": [],
   "source": [
    "# Rotate ligand \n",
    "\n",
    "from src.applications.autodock.allign_ligand import modify_prepare_ligand\n",
    "\n",
    "ligand_pdbqt = modify_prepare_ligand(\n",
    "    'ligand.sdf',\n",
    "    protein_com,\n",
    "    active_site_com\n",
    ")"
   ]
  },
  {
   "cell_type": "markdown",
   "metadata": {},
   "source": [
    "### 2. Run vina"
   ]
  },
  {
   "cell_type": "code",
   "execution_count": 9,
   "metadata": {},
   "outputs": [
    {
     "name": "stderr",
     "output_type": "stream",
     "text": [
      "2025-01-30 16:16:43,350 - INFO - Loading enzyme from: ./data/vina_examples/6OSZ_altloc_removed_com.pdbqt\n",
      "2025-01-30 16:16:43,350 - INFO - Loading enzyme from: ./data/vina_examples/6OSZ_altloc_removed_com.pdbqt\n",
      "2025-01-30 16:16:43,350 - INFO - Loading enzyme from: ./data/vina_examples/6OSZ_altloc_removed_com.pdbqt\n",
      "2025-01-30 16:16:43,350 - INFO - Loading enzyme from: ./data/vina_examples/6OSZ_altloc_removed_com.pdbqt\n",
      "2025-01-30 16:16:43,359 - INFO - Loading ligand from: ./data/vina_examples/triacylglycerol_com.pdbqt\n",
      "2025-01-30 16:16:43,359 - INFO - Loading ligand from: ./data/vina_examples/triacylglycerol_com.pdbqt\n",
      "2025-01-30 16:16:43,359 - INFO - Loading ligand from: ./data/vina_examples/triacylglycerol_com.pdbqt\n",
      "2025-01-30 16:16:43,359 - INFO - Loading ligand from: ./data/vina_examples/triacylglycerol_com.pdbqt\n",
      "2025-01-30 16:16:43,808 - INFO - Computing Vina maps (center=[-9.168999671936035, -5.4730000495910645, 4.074666976928711], box_size=[30, 30, 30])\n",
      "2025-01-30 16:16:43,808 - INFO - Computing Vina maps (center=[-9.168999671936035, -5.4730000495910645, 4.074666976928711], box_size=[30, 30, 30])\n",
      "2025-01-30 16:16:43,808 - INFO - Computing Vina maps (center=[-9.168999671936035, -5.4730000495910645, 4.074666976928711], box_size=[30, 30, 30])\n",
      "2025-01-30 16:16:43,808 - INFO - Computing Vina maps (center=[-9.168999671936035, -5.4730000495910645, 4.074666976928711], box_size=[30, 30, 30])\n",
      "2025-01-30 16:16:44,198 - INFO - Score before minimization: 129.503 (kcal/mol)\n",
      "2025-01-30 16:16:44,198 - INFO - Score before minimization: 129.503 (kcal/mol)\n",
      "2025-01-30 16:16:44,198 - INFO - Score before minimization: 129.503 (kcal/mol)\n",
      "2025-01-30 16:16:44,198 - INFO - Score before minimization: 129.503 (kcal/mol)\n",
      "2025-01-30 16:16:44,202 - INFO - Score after minimization: 129.503 (kcal/mol)\n",
      "2025-01-30 16:16:44,202 - INFO - Score after minimization: 129.503 (kcal/mol)\n",
      "2025-01-30 16:16:44,202 - INFO - Score after minimization: 129.503 (kcal/mol)\n",
      "2025-01-30 16:16:44,202 - INFO - Score after minimization: 129.503 (kcal/mol)\n",
      "2025-01-30 16:16:44,204 - INFO - Saved minimized pose to: data/vina_examples/output/minimized_pose.pdbqt\n",
      "2025-01-30 16:16:44,204 - INFO - Saved minimized pose to: data/vina_examples/output/minimized_pose.pdbqt\n",
      "2025-01-30 16:16:44,204 - INFO - Saved minimized pose to: data/vina_examples/output/minimized_pose.pdbqt\n",
      "2025-01-30 16:16:44,204 - INFO - Saved minimized pose to: data/vina_examples/output/minimized_pose.pdbqt\n",
      "2025-01-30 16:16:44,205 - INFO - Starting docking (exhaustiveness=16, n_poses=2)\n",
      "2025-01-30 16:16:44,205 - INFO - Starting docking (exhaustiveness=16, n_poses=2)\n",
      "2025-01-30 16:16:44,205 - INFO - Starting docking (exhaustiveness=16, n_poses=2)\n",
      "2025-01-30 16:16:44,205 - INFO - Starting docking (exhaustiveness=16, n_poses=2)\n"
     ]
    },
    {
     "name": "stdout",
     "output_type": "stream",
     "text": [
      "Computing Vina grid ... done.\n",
      "Performing local search ... done.\n",
      "Performing docking (random seed: 411269557) ... "
     ]
    },
    {
     "name": "stderr",
     "output_type": "stream",
     "text": [
      "2025-01-30 16:23:20,925 - INFO - Saved 1 docked poses to: data/vina_examples/output/docked_poses.pdbqt\n",
      "2025-01-30 16:23:20,925 - INFO - Saved 1 docked poses to: data/vina_examples/output/docked_poses.pdbqt\n",
      "2025-01-30 16:23:20,925 - INFO - Saved 1 docked poses to: data/vina_examples/output/docked_poses.pdbqt\n",
      "2025-01-30 16:23:20,925 - INFO - Saved 1 docked poses to: data/vina_examples/output/docked_poses.pdbqt\n",
      "2025-01-30 16:23:20,927 - ERROR - Error during docking: 'NoneType' object is not iterable\n",
      "Traceback (most recent call last):\n",
      "  File \"/Users/nwilliams/Projects/pocket_data_gen/src/applications/autodock/run_docking.py\", line 111, in run_vina_docking\n",
      "    docking_scores = [result.affinity for result in docking_results]\n",
      "                     ^^^^^^^^^^^^^^^^^^^^^^^^^^^^^^^^^^^^^^^^^^^^^^^\n",
      "TypeError: 'NoneType' object is not iterable\n",
      "2025-01-30 16:23:20,927 - ERROR - Error during docking: 'NoneType' object is not iterable\n",
      "Traceback (most recent call last):\n",
      "  File \"/Users/nwilliams/Projects/pocket_data_gen/src/applications/autodock/run_docking.py\", line 111, in run_vina_docking\n",
      "    docking_scores = [result.affinity for result in docking_results]\n",
      "                     ^^^^^^^^^^^^^^^^^^^^^^^^^^^^^^^^^^^^^^^^^^^^^^^\n",
      "TypeError: 'NoneType' object is not iterable\n",
      "2025-01-30 16:23:20,927 - ERROR - Error during docking: 'NoneType' object is not iterable\n",
      "Traceback (most recent call last):\n",
      "  File \"/Users/nwilliams/Projects/pocket_data_gen/src/applications/autodock/run_docking.py\", line 111, in run_vina_docking\n",
      "    docking_scores = [result.affinity for result in docking_results]\n",
      "                     ^^^^^^^^^^^^^^^^^^^^^^^^^^^^^^^^^^^^^^^^^^^^^^^\n",
      "TypeError: 'NoneType' object is not iterable\n",
      "2025-01-30 16:23:20,927 - ERROR - Error during docking: 'NoneType' object is not iterable\n",
      "Traceback (most recent call last):\n",
      "  File \"/Users/nwilliams/Projects/pocket_data_gen/src/applications/autodock/run_docking.py\", line 111, in run_vina_docking\n",
      "    docking_scores = [result.affinity for result in docking_results]\n",
      "                     ^^^^^^^^^^^^^^^^^^^^^^^^^^^^^^^^^^^^^^^^^^^^^^^\n",
      "TypeError: 'NoneType' object is not iterable\n"
     ]
    },
    {
     "name": "stdout",
     "output_type": "stream",
     "text": [
      "\n",
      "0%   10   20   30   40   50   60   70   80   90   100%\n",
      "|----|----|----|----|----|----|----|----|----|----|\n",
      "***************************************************\n",
      "\n",
      "mode |   affinity | dist from best mode\n",
      "     | (kcal/mol) | rmsd l.b.| rmsd u.b.\n",
      "-----+------------+----------+----------\n",
      "   1       -5.091          0          0\n",
      "   2       -5.049       3.96      11.56\n"
     ]
    },
    {
     "ename": "TypeError",
     "evalue": "'NoneType' object is not iterable",
     "output_type": "error",
     "traceback": [
      "\u001b[0;31m---------------------------------------------------------------------------\u001b[0m",
      "\u001b[0;31mTypeError\u001b[0m                                 Traceback (most recent call last)",
      "Cell \u001b[0;32mIn[9], line 3\u001b[0m\n\u001b[1;32m      1\u001b[0m \u001b[38;5;28;01mfrom\u001b[39;00m\u001b[38;5;250m \u001b[39m\u001b[38;5;21;01msrc\u001b[39;00m\u001b[38;5;21;01m.\u001b[39;00m\u001b[38;5;21;01mapplications\u001b[39;00m\u001b[38;5;21;01m.\u001b[39;00m\u001b[38;5;21;01mautodock\u001b[39;00m\u001b[38;5;21;01m.\u001b[39;00m\u001b[38;5;21;01mrun_docking\u001b[39;00m\u001b[38;5;250m \u001b[39m\u001b[38;5;28;01mimport\u001b[39;00m run_vina_docking\n\u001b[0;32m----> 3\u001b[0m results \u001b[38;5;241m=\u001b[39m \u001b[43mrun_vina_docking\u001b[49m\u001b[43m(\u001b[49m\n\u001b[1;32m      4\u001b[0m \u001b[43m    \u001b[49m\u001b[43menzyme_path\u001b[49m\u001b[38;5;241;43m=\u001b[39;49m\u001b[43menzyme_pdbqt\u001b[49m\u001b[43m,\u001b[49m\n\u001b[1;32m      5\u001b[0m \u001b[43m    \u001b[49m\u001b[43mligand_path\u001b[49m\u001b[38;5;241;43m=\u001b[39;49m\u001b[43mligand_pdbqt\u001b[49m\u001b[43m,\u001b[49m\n\u001b[1;32m      6\u001b[0m \u001b[43m    \u001b[49m\u001b[43moutput_dir\u001b[49m\u001b[38;5;241;43m=\u001b[39;49m\u001b[38;5;124;43m'\u001b[39;49m\u001b[38;5;124;43mdata/vina_examples/output\u001b[39;49m\u001b[38;5;124;43m'\u001b[39;49m\u001b[43m,\u001b[49m\n\u001b[1;32m      7\u001b[0m \u001b[43m    \u001b[49m\u001b[43mcenter\u001b[49m\u001b[38;5;241;43m=\u001b[39;49m\u001b[43mmean_act_site\u001b[49m\u001b[38;5;241;43m.\u001b[39;49m\u001b[43mtolist\u001b[49m\u001b[43m(\u001b[49m\u001b[43m)\u001b[49m\u001b[43m,\u001b[49m\u001b[43m \u001b[49m\n\u001b[1;32m      8\u001b[0m \u001b[43m    \u001b[49m\u001b[43mbox_size\u001b[49m\u001b[38;5;241;43m=\u001b[39;49m\u001b[43m[\u001b[49m\u001b[38;5;241;43m30\u001b[39;49m\u001b[43m,\u001b[49m\u001b[43m \u001b[49m\u001b[38;5;241;43m30\u001b[39;49m\u001b[43m,\u001b[49m\u001b[43m \u001b[49m\u001b[38;5;241;43m30\u001b[39;49m\u001b[43m]\u001b[49m\u001b[43m,\u001b[49m\n\u001b[1;32m      9\u001b[0m \u001b[43m    \u001b[49m\u001b[43mexhaustiveness\u001b[49m\u001b[38;5;241;43m=\u001b[39;49m\u001b[38;5;241;43m16\u001b[39;49m\u001b[43m,\u001b[49m\n\u001b[1;32m     10\u001b[0m \u001b[43m    \u001b[49m\u001b[43mn_poses\u001b[49m\u001b[38;5;241;43m=\u001b[39;49m\u001b[38;5;241;43m2\u001b[39;49m\u001b[43m,\u001b[49m\n\u001b[1;32m     11\u001b[0m \u001b[43m    \u001b[49m\u001b[43mn_poses_to_save\u001b[49m\u001b[38;5;241;43m=\u001b[39;49m\u001b[38;5;241;43m1\u001b[39;49m\n\u001b[1;32m     12\u001b[0m \u001b[43m)\u001b[49m\n",
      "File \u001b[0;32m~/Projects/pocket_data_gen/src/applications/autodock/run_docking.py:111\u001b[0m, in \u001b[0;36mrun_vina_docking\u001b[0;34m(enzyme_path, ligand_path, output_dir, center, box_size, exhaustiveness, n_poses, n_poses_to_save)\u001b[0m\n\u001b[1;32m    108\u001b[0m logger\u001b[38;5;241m.\u001b[39minfo(\u001b[38;5;124mf\u001b[39m\u001b[38;5;124m'\u001b[39m\u001b[38;5;124mSaved \u001b[39m\u001b[38;5;132;01m{\u001b[39;00mn_poses_to_save\u001b[38;5;132;01m}\u001b[39;00m\u001b[38;5;124m docked poses to: \u001b[39m\u001b[38;5;132;01m{\u001b[39;00mdocked_poses_path\u001b[38;5;132;01m}\u001b[39;00m\u001b[38;5;124m'\u001b[39m)\n\u001b[1;32m    110\u001b[0m \u001b[38;5;66;03m# Get all docking scores\u001b[39;00m\n\u001b[0;32m--> 111\u001b[0m docking_scores \u001b[38;5;241m=\u001b[39m \u001b[43m[\u001b[49m\u001b[43mresult\u001b[49m\u001b[38;5;241;43m.\u001b[39;49m\u001b[43maffinity\u001b[49m\u001b[43m \u001b[49m\u001b[38;5;28;43;01mfor\u001b[39;49;00m\u001b[43m \u001b[49m\u001b[43mresult\u001b[49m\u001b[43m \u001b[49m\u001b[38;5;129;43;01min\u001b[39;49;00m\u001b[43m \u001b[49m\u001b[43mdocking_results\u001b[49m\u001b[43m]\u001b[49m\n\u001b[1;32m    113\u001b[0m \u001b[38;5;66;03m# Log top scores\u001b[39;00m\n\u001b[1;32m    114\u001b[0m logger\u001b[38;5;241m.\u001b[39minfo(\u001b[38;5;124mf\u001b[39m\u001b[38;5;124m'\u001b[39m\u001b[38;5;130;01m\\n\u001b[39;00m\u001b[38;5;124mTop \u001b[39m\u001b[38;5;132;01m{\u001b[39;00mn_poses_to_save\u001b[38;5;132;01m}\u001b[39;00m\u001b[38;5;124m docking scores:\u001b[39m\u001b[38;5;124m'\u001b[39m)\n",
      "\u001b[0;31mTypeError\u001b[0m: 'NoneType' object is not iterable"
     ]
    }
   ],
   "source": [
    "from src.applications.autodock.run_docking import run_vina_docking\n",
    "\n",
    "results = run_vina_docking(\n",
    "    enzyme_path=enzyme_pdbqt,\n",
    "    ligand_path=ligand_pdbqt,\n",
    "    output_dir='data/vina_examples/output',\n",
    "    center=mean_act_site.tolist(), \n",
    "    box_size=[30, 30, 30],\n",
    "    exhaustiveness=16,\n",
    "    n_poses=2,\n",
    "    n_poses_to_save=1\n",
    ")"
   ]
  },
  {
   "cell_type": "code",
   "execution_count": 8,
   "metadata": {},
   "outputs": [],
   "source": [
    "results "
   ]
  },
  {
   "cell_type": "code",
   "execution_count": null,
   "metadata": {},
   "outputs": [],
   "source": []
  }
 ],
 "metadata": {
  "kernelspec": {
   "display_name": "enzyme_design",
   "language": "python",
   "name": "python3"
  },
  "language_info": {
   "codemirror_mode": {
    "name": "ipython",
    "version": 3
   },
   "file_extension": ".py",
   "mimetype": "text/x-python",
   "name": "python",
   "nbconvert_exporter": "python",
   "pygments_lexer": "ipython3",
   "version": "3.11.11"
  }
 },
 "nbformat": 4,
 "nbformat_minor": 2
}
