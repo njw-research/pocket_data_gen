{
 "cells": [
  {
   "cell_type": "code",
   "execution_count": 1,
   "metadata": {},
   "outputs": [],
   "source": [
    "import requests\n",
    "import os\n",
    "import Bio.PDB"
   ]
  },
  {
   "cell_type": "markdown",
   "metadata": {},
   "source": [
    "### Download pdb file, prune, filter and remove altloc"
   ]
  },
  {
   "cell_type": "code",
   "execution_count": 2,
   "metadata": {},
   "outputs": [
    {
     "name": "stderr",
     "output_type": "stream",
     "text": [
      "/Users/nwilliams/Projects/xyme_tools/.venv/lib/python3.11/site-packages/tqdm/auto.py:21: TqdmWarning: IProgress not found. Please update jupyter and ipywidgets. See https://ipywidgets.readthedocs.io/en/stable/user_install.html\n",
      "  from .autonotebook import tqdm as notebook_tqdm\n"
     ]
    }
   ],
   "source": [
    "from xyme_tools.structure_handling.utils import download_pdb_to_local, prune_pdb_around_residues, filter_to_pdb_hetatm_types, remove_altloc\n",
    "\n",
    "\n",
    "save_loc = \"./data/processed_pdbs/\"\n",
    "\n",
    "pdb = \"6osz\"\n",
    "\n",
    "key_residues_dict = [{\"CHAIN\": \"A\", \"RESID\": 303, \"RESNAME\": \"LTV\"}]\n",
    "\n",
    "# pdb_f = download_pdb_to_local(pdb, save_dir=os.path.join(save_loc, f\"{pdb}/\"))\n",
    "\n",
    "pdb_f = \"data/6osz_chain_A.pdb\"\n",
    "\n",
    "pdb_pruned_f = prune_pdb_around_residues(\n",
    "    pdb_f,\n",
    "    residues=key_residues_dict,\n",
    "    distance=10,\n",
    "    f_out=os.path.join(save_loc, f\"{pdb}/{pdb}_pruned_10A.pdb\"),\n",
    ")\n",
    "\n",
    "\n",
    "pdb_filtered_f = filter_to_pdb_hetatm_types(\n",
    "    pdb_f,\n",
    "    hetatms=key_residues_dict,\n",
    "    f_out=os.path.join(save_loc, f\"{pdb}/{pdb}_filtered.pdb\"),\n",
    ")\n",
    "\n",
    "remove_altloc(\n",
    "    pdb_filtered_f,\n",
    "    output_pdb=os.path.join(save_loc, f\"{pdb}/{pdb}_altloc_removed.pdb\")\n",
    ")"
   ]
  },
  {
   "cell_type": "code",
   "execution_count": null,
   "metadata": {},
   "outputs": [],
   "source": []
  }
 ],
 "metadata": {
  "kernelspec": {
   "display_name": ".venv",
   "language": "python",
   "name": "python3"
  },
  "language_info": {
   "codemirror_mode": {
    "name": "ipython",
    "version": 3
   },
   "file_extension": ".py",
   "mimetype": "text/x-python",
   "name": "python",
   "nbconvert_exporter": "python",
   "pygments_lexer": "ipython3",
   "version": "3.11.11"
  }
 },
 "nbformat": 4,
 "nbformat_minor": 2
}
