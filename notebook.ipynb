{
 "cells": [
  {
   "cell_type": "markdown",
   "metadata": {},
   "source": [
    "## Create data from pdb "
   ]
  },
  {
   "cell_type": "code",
   "execution_count": 1,
   "metadata": {},
   "outputs": [],
   "source": [
    "%load_ext autoreload\n",
    "%autoreload 2\n",
    "\n",
    "# # Usage examples:\n",
    "# # Process all chains\n",
    "# process_pdb_list(\n",
    "#     \"./data/enzyme/initial_data.csv\",\n",
    "#     \"./data/enzyme/initial_clean_pdbs_test/\",\n",
    "#     key_residues_dict=[]\n",
    "# )\n",
    "\n",
    "# # Process only chain A\n",
    "# process_pdb_list(\n",
    "#     \"./data/enzyme/initial_data.csv\",\n",
    "#     \"./data/enzyme/initial_clean_pdbs_chain_A_test/\",\n",
    "#     key_residues_dict=[],\n",
    "#     chain='A'\n",
    "# )\n"
   ]
  },
  {
   "cell_type": "markdown",
   "metadata": {},
   "source": [
    "### Ligand and enzyme preparation "
   ]
  },
  {
   "cell_type": "code",
   "execution_count": null,
   "metadata": {},
   "outputs": [],
   "source": [
    "# Run for all data\n",
    "from src.applications.autodock.utils import  prepare_vina_files\n",
    "\n",
    "prep_info = prepare_vina_files(\n",
    "        pdb_dir=\"./data/enzyme/initial_clean_pdbs_chain_A_test\",\n",
    "        sdf_dir=\"./data/ligand/sdf\",\n",
    "        base_output_dir=\"./examples/vina_output_test\"\n",
    "    )\n",
    "\n",
    "# from src.applications.autodock.utils import prepare_enzyme\n",
    "# from src.applications.autodock.allign_ligand import prepare_ligand\n",
    "\n",
    "# ligand_path = './data/vina_examples/triacylglycerol'\n",
    "# enzyme_path = './data/vina_examples/1CLE_altloc_removed.pdb'\n",
    "# residue_ids = ['S146', 'D201', 'H258']\n",
    "\n",
    "# enzyme_pdbqt, mean_act_site = prepare_enzyme(\n",
    "#     enzyme_path=enzyme_path\n",
    "# )\n",
    "\n",
    "# ligand_pdbqt = prepare_ligand(\n",
    "#     ligand_path='data/vina_examples/triacylglycerol.sdf',\n",
    "#     active_site_com= mean_act_site\n",
    "# )"
   ]
  },
  {
   "cell_type": "markdown",
   "metadata": {},
   "source": [
    "# Autodock Vina "
   ]
  },
  {
   "cell_type": "markdown",
   "metadata": {},
   "source": [
    "### 2. Run vina"
   ]
  },
  {
   "cell_type": "code",
   "execution_count": 3,
   "metadata": {},
   "outputs": [
    {
     "name": "stderr",
     "output_type": "stream",
     "text": [
      "2025-02-03 09:13:02,460 - INFO - Loading enzyme from: examples/vina_examples/1CLE_altloc_removed_com.pdbqt\n",
      "2025-02-03 09:13:02,460 - INFO - Loading enzyme from: examples/vina_examples/1CLE_altloc_removed_com.pdbqt\n",
      "2025-02-03 09:13:02,476 - INFO - Loading ligand from: examples/vina_examples/triacylglycerol_aligned.pdbqt\n",
      "2025-02-03 09:13:02,476 - INFO - Loading ligand from: examples/vina_examples/triacylglycerol_aligned.pdbqt\n",
      "2025-02-03 09:13:02,998 - INFO - Computing Vina maps (center=[-7.356333255767822, 5.261666774749756, -2.2339999675750732], box_size=[40, 40, 40])\n",
      "2025-02-03 09:13:02,998 - INFO - Computing Vina maps (center=[-7.356333255767822, 5.261666774749756, -2.2339999675750732], box_size=[40, 40, 40])\n",
      "WARNING: Search space volume is greater than 27000 Angstrom^3 (See FAQ)\n",
      "2025-02-03 09:13:03,867 - INFO - Score before minimization: 157.651 (kcal/mol)\n",
      "2025-02-03 09:13:03,867 - INFO - Score before minimization: 157.651 (kcal/mol)\n",
      "2025-02-03 09:13:03,872 - INFO - Score after minimization: 59.905 (kcal/mol)\n",
      "2025-02-03 09:13:03,872 - INFO - Score after minimization: 59.905 (kcal/mol)\n",
      "2025-02-03 09:13:03,873 - INFO - Saved minimized pose to: examples/vina_examples/docking_results/minimized_pose.pdbqt\n",
      "2025-02-03 09:13:03,873 - INFO - Saved minimized pose to: examples/vina_examples/docking_results/minimized_pose.pdbqt\n",
      "2025-02-03 09:13:03,873 - INFO - Starting docking (exhaustiveness=16, n_poses=1)\n",
      "2025-02-03 09:13:03,873 - INFO - Starting docking (exhaustiveness=16, n_poses=1)\n"
     ]
    },
    {
     "name": "stdout",
     "output_type": "stream",
     "text": [
      "Computing Vina grid ... done.\n",
      "Performing local search ... done.\n",
      "Performing docking (random seed: -844560511) ... \n",
      "0%   10   20   30   40   50   60   70   80   90   100%\n",
      "|----|----|----|----|----|----|----|----|----|----|\n",
      "***************************************************\n",
      "\n",
      "mode |   affinity | dist from best mode\n",
      "     | (kcal/mol) | rmsd l.b.| rmsd u.b.\n",
      "-----+------------+----------+----------\n",
      "   1       -6.087          0          0\n"
     ]
    },
    {
     "name": "stderr",
     "output_type": "stream",
     "text": [
      "2025-02-03 09:17:02,201 - INFO - Saved 1 docked poses to: examples/vina_examples/docking_results/docked_poses.pdbqt\n",
      "2025-02-03 09:17:02,201 - INFO - Saved 1 docked poses to: examples/vina_examples/docking_results/docked_poses.pdbqt\n",
      "2025-02-03 09:17:02,202 - INFO - Saved scores and energies to: examples/vina_examples/docking_results/docking_scores.json\n",
      "2025-02-03 09:17:02,202 - INFO - Saved scores and energies to: examples/vina_examples/docking_results/docking_scores.json\n",
      "2025-02-03 09:17:02,203 - INFO - Docking completed successfully\n",
      "2025-02-03 09:17:02,203 - INFO - Docking completed successfully\n"
     ]
    }
   ],
   "source": [
    "from src.applications.autodock.run_docking import run_vina_docking\n",
    "\n",
    "results = run_vina_docking(\n",
    "    input_dir='./examples/vina_examples/',\n",
    "    box_size=[40, 40, 40],\n",
    "    exhaustiveness=16,\n",
    "    n_poses=1,\n",
    "    n_poses_to_save=1\n",
    ")"
   ]
  },
  {
   "cell_type": "code",
   "execution_count": null,
   "metadata": {},
   "outputs": [],
   "source": []
  }
 ],
 "metadata": {
  "kernelspec": {
   "display_name": "enzyme_design",
   "language": "python",
   "name": "python3"
  },
  "language_info": {
   "codemirror_mode": {
    "name": "ipython",
    "version": 3
   },
   "file_extension": ".py",
   "mimetype": "text/x-python",
   "name": "python",
   "nbconvert_exporter": "python",
   "pygments_lexer": "ipython3",
   "version": "3.11.11"
  }
 },
 "nbformat": 4,
 "nbformat_minor": 2
}
